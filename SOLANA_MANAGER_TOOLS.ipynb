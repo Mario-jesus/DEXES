{
  "cells": [
    {
      "cell_type": "markdown",
      "metadata": {},
      "source": [
        "# Solana Manager Tools\n",
        "\n",
        "Este notebook contiene herramientas completas para gestionar wallets, transferencias y utilidades de Solana."
      ]
    },
    {
      "cell_type": "markdown",
      "metadata": {},
      "source": [
        "### Importaciones y Configuración"
      ]
    },
    {
      "cell_type": "code",
      "execution_count": null,
      "metadata": {},
      "outputs": [],
      "source": [
        "from solana_manager import SolanaWalletManager, SolanaAccountInfo, SolanaTransfer, SolanaUtils\n",
        "import os"
      ]
    },
    {
      "cell_type": "code",
      "execution_count": null,
      "metadata": {},
      "outputs": [],
      "source": [
        "# Configuración de red\n",
        "NETWORK = \"mainnet-beta\"\n",
        "RPC_URL = \"https://api.mainnet-beta.solana.com\""
      ]
    },
    {
      "cell_type": "markdown",
      "metadata": {},
      "source": [
        "## 1. Gestión de Wallets\n",
        "\n",
        "Herramientas para crear, cargar y gestionar wallets de Solana."
      ]
    },
    {
      "cell_type": "markdown",
      "metadata": {},
      "source": [
        "### 1.1 Crear Nueva Wallet"
      ]
    },
    {
      "cell_type": "code",
      "execution_count": null,
      "metadata": {},
      "outputs": [],
      "source": [
        "# Crear nueva wallet y guardarla en archivo\n",
        "async def create_wallet():\n",
        "    async with SolanaWalletManager(network=\"mainnet-beta\") as wallet_manager:\n",
        "        wallet_filename = await wallet_manager.create_wallet_file(filename=None)\n",
        "\n",
        "        if wallet_filename:\n",
        "            print(f\"\\n📁 Wallet guardada en: {wallet_filename}\")\n",
        "            print(f\"📍 Dirección: {wallet_manager.get_address()}\")\n",
        "            print(\"⚠️  IMPORTANTE: Guarda este archivo de forma segura\")\n",
        "\n",
        "await create_wallet()"
      ]
    },
    {
      "cell_type": "markdown",
      "metadata": {},
      "source": [
        "### 1.2 Cargar Wallet Existente"
      ]
    },
    {
      "cell_type": "code",
      "execution_count": null,
      "metadata": {},
      "outputs": [],
      "source": [
        "# Cargar wallet desde archivo (cambia por tu archivo)\n",
        "async def load_wallet():\n",
        "    WALLET_FILE = \"wallets/mi_wallet_20250611_192531.json\"\n",
        "\n",
        "    async with SolanaWalletManager(network=\"mainnet-beta\") as wallet_manager:\n",
        "        if os.path.exists(WALLET_FILE):\n",
        "            success = await wallet_manager.load_wallet(WALLET_FILE)\n",
        "            if success:\n",
        "                print(f\"✅ Wallet cargada exitosamente\")\n",
        "                print(f\"📍 Dirección: {wallet_manager.get_address() or 'No se pudo obtener la dirección'}\")\n",
        "            else:\n",
        "                print(\"❌ Error cargando wallet\")\n",
        "        else:\n",
        "            print(f\"❌ Archivo {WALLET_FILE} no encontrado\")\n",
        "            print(\"💡 Ejecuta la celda anterior para crear una nueva wallet\")\n",
        "\n",
        "await load_wallet()"
      ]
    },
    {
      "cell_type": "markdown",
      "metadata": {},
      "source": [
        "### 1.3 Cargar Wallet desde Clave Privada"
      ]
    },
    {
      "cell_type": "code",
      "execution_count": null,
      "metadata": {},
      "outputs": [],
      "source": [
        "async def load_wallet_from_private_key():\n",
        "    # Cargar wallet desde clave privada\n",
        "    PRIVATE_KEY = \"YOUR PRIVATE KEY HERE\"\n",
        "\n",
        "    async with SolanaWalletManager(network=\"mainnet-beta\") as wallet_manager:\n",
        "        keypair = await wallet_manager.load_wallet_from_private_key(PRIVATE_KEY)\n",
        "        if keypair:\n",
        "            print(f\"✅ Wallet cargada desde clave privada\")\n",
        "            print(f\"📍 Dirección: {wallet_manager.get_address()}\")\n",
        "\n",
        "        print(\"💡 Descomenta el código de arriba y agrega tu clave privada para usar esta función\")\n",
        "\n",
        "await load_wallet_from_private_key()"
      ]
    },
    {
      "cell_type": "markdown",
      "metadata": {},
      "source": [
        "## 2. Información de Cuentas\n",
        "\n",
        "Consultar balances, tokens y estado de cuentas."
      ]
    },
    {
      "cell_type": "markdown",
      "metadata": {},
      "source": [
        "### 2.1 Balance Completo de Wallet"
      ]
    },
    {
      "cell_type": "code",
      "execution_count": null,
      "metadata": {},
      "outputs": [],
      "source": [
        "async def get_balance_info():\n",
        "    WALLET_FILE = \"wallets/wallet_pumpportal.json\"\n",
        "\n",
        "    async with SolanaWalletManager(network=\"mainnet-beta\") as wallet_manager:\n",
        "        await wallet_manager.load_wallet(WALLET_FILE)\n",
        "        if wallet_manager.is_wallet_loaded():\n",
        "            address = wallet_manager.get_address()\n",
        "\n",
        "            async with SolanaAccountInfo(network=\"mainnet-beta\") as account_info:\n",
        "                balance_info = await account_info.get_balance_info(address)\n",
        "\n",
        "                print(f\"\\n💰 BALANCE COMPLETO\")\n",
        "                print(f\"📍 Wallet: {address}\")\n",
        "                print(f\"💎 SOL: {balance_info['sol_balance']:.9f}\")\n",
        "                print(f\"💵 Valor USD: ${balance_info['usd_value']:.2f}\")\n",
        "                print(f\"📊 Precio SOL: ${balance_info['sol_price_usd']:.2f}\")\n",
        "        else:\n",
        "            print(\"❌ No hay wallet cargada. Ejecuta las celdas de la sección 1 primero.\")\n",
        "\n",
        "await get_balance_info()"
      ]
    },
    {
      "cell_type": "markdown",
      "metadata": {},
      "source": [
        "### 2.2 Tokens SPL en la Wallet"
      ]
    },
    {
      "cell_type": "code",
      "execution_count": null,
      "metadata": {},
      "outputs": [],
      "source": [
        "async def get_token_accounts():\n",
        "    WALLET_FILE = \"wallets/wallet_pumpportal.json\"\n",
        "\n",
        "    async with SolanaWalletManager(network=\"mainnet-beta\") as wallet_manager:\n",
        "        await wallet_manager.load_wallet(WALLET_FILE)\n",
        "\n",
        "        if not wallet_manager.is_wallet_loaded():\n",
        "            print(\"❌ No hay wallet cargada\")\n",
        "            return\n",
        "\n",
        "        async with SolanaAccountInfo(network=\"mainnet-beta\") as account_info:\n",
        "            address = wallet_manager.get_address()\n",
        "            token_accounts = await account_info.get_token_accounts(address)\n",
        "\n",
        "            if not token_accounts:\n",
        "                print(\"❌ No se encontraron tokens SPL en esta wallet\")\n",
        "                return\n",
        "\n",
        "            print(f\"\\n🪙 TOKENS SPL ENCONTRADOS: {len(token_accounts)}\")\n",
        "            print(\"=\" * 60)\n",
        "\n",
        "            i = 0\n",
        "            for i, token in enumerate(token_accounts, 1):\n",
        "                    print(f\"\\n{i}. Token:\")\n",
        "                    print(f\"   📍 Mint: {token['mint']}\")\n",
        "                    print(f\"   💰 Balance: {token['balance']:,.{min(token['decimals'], 6)}f}\")\n",
        "                    print(f\"   🔢 Decimales: {token['decimals']}\")\n",
        "                    print(f\"   🏦 Cuenta: {token['account_address']}\")\n",
        "\n",
        "            if i == 0:\n",
        "                print(\"📭 No se encontraron tokens SPL en esta wallet\")\n",
        "\n",
        "await get_token_accounts()"
      ]
    },
    {
      "cell_type": "markdown",
      "metadata": {},
      "source": [
        "### 2.3 Información Detallada de Cuenta"
      ]
    },
    {
      "cell_type": "code",
      "execution_count": null,
      "metadata": {},
      "outputs": [],
      "source": [
        "async def get_account_info():\n",
        "    WALLET_FILE = \"wallets/wallet_pumpfun.json\"\n",
        "\n",
        "    async with SolanaWalletManager(network=\"mainnet-beta\") as wallet_manager:\n",
        "        await wallet_manager.load_wallet(WALLET_FILE)\n",
        "        if not wallet_manager.is_wallet_loaded():\n",
        "            print(\"❌ No hay wallet cargada\")\n",
        "            return\n",
        "\n",
        "        async with SolanaAccountInfo(network=\"mainnet-beta\") as account_info:\n",
        "            address = wallet_manager.get_address()\n",
        "            account_details = await account_info.get_account_info(address)\n",
        "\n",
        "            print(f\"\\n🔍 INFORMACIÓN DETALLADA DE CUENTA\")\n",
        "            print(\"=\" * 50)\n",
        "            print(f\"📍 Dirección: {account_details['address']}\")\n",
        "            print(f\"💰 Balance SOL: {account_details['sol_balance']:.9f}\")\n",
        "            print(f\"🏦 Lamports: {account_details['lamports']:,}\")\n",
        "            print(f\"✅ Existe: {account_details['exists']}\")\n",
        "            print(f\"🌐 Red: {account_details['network']}\")\n",
        "\n",
        "            if account_details.get('executable') is not None:\n",
        "                print(f\"⚙️ Ejecutable: {account_details['executable']}\")\n",
        "                print(f\"👤 Owner: {account_details['owner']}\")\n",
        "                print(f\"📊 Tamaño datos: {account_details['data_length']} bytes\")\n",
        "\n",
        "            # ====================== TOKENS ======================\n",
        "            token_accounts = await account_info.get_token_accounts(address)\n",
        "\n",
        "            if not token_accounts:\n",
        "                print(\"❌ No se encontraron tokens SPL en esta wallet\")\n",
        "                return\n",
        "\n",
        "            print(f\"\\n🪙 TOKENS SPL ENCONTRADOS: {len(token_accounts)}\")\n",
        "            print(\"=\" * 60)\n",
        "\n",
        "            i = 0\n",
        "            for i, token in enumerate(token_accounts, 1):\n",
        "                    print(f\"\\n{i}. Token:\")\n",
        "                    print(f\"   📍 Mint: {token['mint']}\")\n",
        "                    print(f\"   💰 Balance: {token['balance']:,.{min(token['decimals'], 6)}f}\")\n",
        "                    print(f\"   🔢 Decimales: {token['decimals']}\")\n",
        "                    print(f\"   🏦 Cuenta: {token['account_address']}\")\n",
        "\n",
        "            if i == 0:\n",
        "                print(\"📭 No se encontraron tokens SPL en esta wallet\")\n",
        "\n",
        "await get_account_info()\n"
      ]
    },
    {
      "cell_type": "markdown",
      "metadata": {},
      "source": [
        "## 3. Transferencias SOL\n",
        "\n",
        "Enviar SOL a otras wallets."
      ]
    },
    {
      "cell_type": "markdown",
      "metadata": {},
      "source": [
        "### 3.1 Estimar Comisiones de Transferencia"
      ]
    },
    {
      "cell_type": "code",
      "execution_count": null,
      "metadata": {},
      "outputs": [],
      "source": [
        "async def get_transfer_fee_estimate(amount_to_send: float, compute_units_limit: int = 200000, priority_fee_micro_lamports: int = 1):\n",
        "    \"\"\"\n",
        "    Función actualizada para estimar comisiones de transferencia\n",
        "    \n",
        "    Args:\n",
        "        amount_to_send: Cantidad de SOL a enviar\n",
        "        compute_units_limit: Límite de unidades de cómputo (default: 200,000)\n",
        "        priority_fee_micro_lamports: Precio por unidad de cómputo en micro-lamports (default: 1)\n",
        "    \"\"\"\n",
        "    WALLET_FILE = \"wallets/wallet_pumpfun.json\"\n",
        "\n",
        "    async with SolanaWalletManager(network=\"mainnet-beta\") as wallet_manager:\n",
        "        await wallet_manager.load_wallet(WALLET_FILE)\n",
        "\n",
        "        if not wallet_manager.is_wallet_loaded():\n",
        "            print(\"❌ No hay wallet cargada\")\n",
        "            return\n",
        "\n",
        "        async with SolanaTransfer(network=\"mainnet-beta\") as transfer_manager:\n",
        "            fee_estimate = await transfer_manager.get_transfer_fee_estimate(\n",
        "                amount_to_send=amount_to_send,\n",
        "                compute_units_limit=compute_units_limit,\n",
        "                priority_fee_micro_lamports=priority_fee_micro_lamports\n",
        "            )\n",
        "\n",
        "            print(f\"\\n💸 ESTIMACIÓN DE COMISIONES\")\n",
        "            print(\"=\" * 50)\n",
        "            print(f\"💰 Cantidad a enviar: {fee_estimate['amount_sol']} SOL\")\n",
        "            print(f\"💳 Tarifa base: {fee_estimate['base_fee_sol']:.9f} SOL\")\n",
        "            print(f\"⚡ Tarifa priorización: {fee_estimate['priority_fee_sol']:.9f} SOL\")\n",
        "            print(f\"📊 Tarifa total: {fee_estimate['total_fee_sol']:.9f} SOL\")\n",
        "            print(f\"💵 Costo total: {fee_estimate['total_cost_sol']:.9f} SOL\")\n",
        "            print(f\"🌐 Red: {fee_estimate['network']}\")\n",
        "            print(f\"⚙️ Unidades cómputo: {fee_estimate['compute_units_limit']:,}\")\n",
        "            print(f\"🎯 Prioridad: {fee_estimate['priority_fee_micro_lamports']} micro-lamports\")\n",
        "            print(f\"🔧 Fuente: {fee_estimate['fee_source']}\")\n",
        "\n",
        "await get_transfer_fee_estimate(0.001)"
      ]
    },
    {
      "cell_type": "markdown",
      "metadata": {},
      "source": [
        "### 3.2 Transferir SOL"
      ]
    },
    {
      "cell_type": "code",
      "execution_count": null,
      "metadata": {},
      "outputs": [],
      "source": [
        "# ⚠️ CUIDADO: Esta celda transfiere SOL real\n",
        "# Configura los valores para usar\n",
        "\n",
        "async def transfer_sol():\n",
        "    WALLET_FILE = \"wallets/wallet_pumpfun.json\"\n",
        "    DESTINATION_ADDRESS = \"62bzYQAbEhtc7eP3qb9G557fhLqcfNxeTKr6v1UshnD1\"\n",
        "    AMOUNT_SOL = 0.00555555  # Cantidad en SOL\n",
        "\n",
        "    async with SolanaWalletManager(network=\"mainnet-beta\") as wallet_manager:\n",
        "        await wallet_manager.load_wallet(WALLET_FILE)\n",
        "        if not wallet_manager.is_wallet_loaded():\n",
        "            print(\"❌ No hay wallet cargada\")\n",
        "            return\n",
        "\n",
        "        async with SolanaUtils(network=\"mainnet-beta\") as utils:\n",
        "            # Validar dirección destino\n",
        "            if not await utils.validate_address(DESTINATION_ADDRESS):\n",
        "                print(\"❌ Dirección destino inválida\")\n",
        "                return\n",
        "\n",
        "        async with SolanaTransfer(network=\"mainnet-beta\") as transfer_manager:\n",
        "            print(f\"🔄 Iniciando transferencia de {AMOUNT_SOL} SOL...\")\n",
        "\n",
        "            signature = await transfer_manager.transfer_sol(\n",
        "                from_keypair=wallet_manager.keypair,\n",
        "                to_address=DESTINATION_ADDRESS,\n",
        "                amount_sol=AMOUNT_SOL\n",
        "            )\n",
        "\n",
        "            if signature:\n",
        "                print(f\"✅ Transferencia exitosa!\")\n",
        "                print(f\"🔗 Signature: {signature}\")\n",
        "            else:\n",
        "                print(\"❌ Error en la transferencia\")\n",
        "\n",
        "await transfer_sol()"
      ]
    },
    {
      "cell_type": "markdown",
      "metadata": {},
      "source": [
        "## 4. Utilidades de Solana\n",
        "\n",
        "Herramientas útiles para validación, conversiones y información de red."
      ]
    },
    {
      "cell_type": "markdown",
      "metadata": {},
      "source": [
        "### 4.1 Validar Direcciones"
      ]
    },
    {
      "cell_type": "code",
      "execution_count": null,
      "metadata": {},
      "outputs": [],
      "source": [
        "async def validate_address():\n",
        "    # Validar direcciones de Solana\n",
        "    test_addresses = [\n",
        "        \"11111111111111111111111111111112\",  # System Program\n",
        "        \"So11111111111111111111111111111111111111112\",  # WSOL\n",
        "        \"direccion_invalida\",  # Inválida\n",
        "        \"TokenkegQfeZyiNwAJbNbGKPFXCWuBvf9Ss623VQ5DA\"  # Token Program\n",
        "    ]\n",
        "\n",
        "    async with SolanaUtils(network=\"mainnet-beta\") as utils:\n",
        "        for i, address in enumerate(test_addresses, 1):\n",
        "            print(f\"\\n{i}. {address[:30]}...\")\n",
        "            is_valid = await utils.validate_address(address)\n",
        "            print(f\"   Resultado: {'✅ Válida' if is_valid else '❌ Inválida'}\")\n",
        "\n",
        "await validate_address()"
      ]
    },
    {
      "cell_type": "markdown",
      "metadata": {},
      "source": [
        "### 4.2 Información de Red"
      ]
    },
    {
      "cell_type": "code",
      "execution_count": null,
      "metadata": {},
      "outputs": [],
      "source": [
        "async def get_network_info():\n",
        "    # Obtener información de la red Solana\n",
        "    async with SolanaUtils(network=\"mainnet-beta\") as utils:\n",
        "        network_info = await utils.get_network_info()\n",
        "\n",
        "        if not network_info:\n",
        "            print(\"❌ No se pudo obtener información de red\")\n",
        "            return\n",
        "\n",
        "    print(f\"\\n🌐 INFORMACIÓN DE RED\")\n",
        "    print(\"=\" * 40)\n",
        "    print(f\"🌍 Red: {network_info['network']}\")\n",
        "    print(f\"🔗 RPC URL: {network_info['rpc_url']}\")\n",
        "    print(f\"📊 Slot actual: {network_info['current_slot']:,}\")\n",
        "    print(f\"✅ Estado: {network_info['status']}\")\n",
        "    print(f\"⏰ Timestamp: {network_info['timestamp']}\")\n",
        "\n",
        "await get_network_info()\n"
      ]
    },
    {
      "cell_type": "markdown",
      "metadata": {},
      "source": [
        "### 4.3 Conversiones SOL ↔ Lamports"
      ]
    },
    {
      "cell_type": "code",
      "execution_count": null,
      "metadata": {},
      "outputs": [],
      "source": [
        "# Conversiones entre SOL y lamports\n",
        "async def convert_sol_to_lamports():\n",
        "    test_values = {\n",
        "        \"sol_amounts\": [0.001, 0.1, 1.0, 10.5],\n",
        "        \"lamport_amounts\": [1000000, 100000000, 1000000000, 5000000000]\n",
        "    }\n",
        "\n",
        "    print(\"🔄 CONVERSIONES SOL ↔ LAMPORTS\")\n",
        "    print(\"=\" * 50)\n",
        "\n",
        "    async with SolanaUtils(network=\"mainnet-beta\") as utils:\n",
        "        print(\"\\n📈 SOL → Lamports:\")\n",
        "        for sol in test_values[\"sol_amounts\"]:\n",
        "            lamports = await utils.convert_sol_to_lamports(sol)\n",
        "            print(f\"   {sol} SOL = {lamports:,} lamports\")\n",
        "\n",
        "        print(\"\\n📉 Lamports → SOL:\")\n",
        "        for lamports in test_values[\"lamport_amounts\"]:\n",
        "            sol = await utils.convert_lamports_to_sol(lamports)\n",
        "            formatted = await utils.format_balance(lamports)\n",
        "            print(f\"   {lamports:,} lamports = {formatted}\")\n",
        "\n",
        "await convert_sol_to_lamports()"
      ]
    },
    {
      "cell_type": "markdown",
      "metadata": {},
      "source": [
        "### 4.4 Precio de SOL y Cálculos USD"
      ]
    },
    {
      "cell_type": "code",
      "execution_count": null,
      "metadata": {},
      "outputs": [],
      "source": [
        "# Obtener precio actual de SOL y calcular valores\n",
        "async def get_current_prince_and_calculate_values():\n",
        "    sol_amounts = [0.1, 1.0, 5.0, 10.0]\n",
        "\n",
        "    print(\"💵 PRECIO DE SOL Y VALORES USD\")\n",
        "    print(\"=\" * 50)\n",
        "\n",
        "    # Obtener precio actual\n",
        "    async with SolanaUtils(network=\"mainnet-beta\") as utils:\n",
        "        sol_price = await utils.get_solana_price_usd()\n",
        "\n",
        "        if not sol_price:\n",
        "            print(\"❌ No se pudo obtener el precio de SOL\")\n",
        "            print(\"💡 Verifica tu conexión a internet\")\n",
        "            return\n",
        "\n",
        "        print(f\"\\n💰 Precio actual: ${sol_price:.2f} USD\")\n",
        "        print(\"\\n📊 Valores calculados:\")\n",
        "        \n",
        "        for amount in sol_amounts:\n",
        "            value_usd = amount * sol_price\n",
        "            print(f\"   {amount} SOL = ${value_usd:.2f} USD\")\n",
        "\n",
        "await get_current_prince_and_calculate_values()"
      ]
    }
  ],
  "metadata": {
    "kernelspec": {
      "display_name": "DEXES-5nxnSWMP",
      "language": "python",
      "name": "python3"
    },
    "language_info": {
      "codemirror_mode": {
        "name": "ipython",
        "version": 3
      },
      "file_extension": ".py",
      "mimetype": "text/x-python",
      "name": "python",
      "nbconvert_exporter": "python",
      "pygments_lexer": "ipython3",
      "version": "3.13.3"
    }
  },
  "nbformat": 4,
  "nbformat_minor": 2
}
