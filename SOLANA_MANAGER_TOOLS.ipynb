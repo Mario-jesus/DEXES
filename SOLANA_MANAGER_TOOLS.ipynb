{
  "cells": [
    {
      "cell_type": "markdown",
      "metadata": {},
      "source": [
        "# Solana Manager Tools\n",
        "\n",
        "Este notebook contiene herramientas completas para gestionar wallets, transferencias y utilidades de Solana."
      ]
    },
    {
      "cell_type": "markdown",
      "metadata": {},
      "source": [
        "### Importaciones y Configuración"
      ]
    },
    {
      "cell_type": "code",
      "execution_count": 1,
      "metadata": {},
      "outputs": [],
      "source": [
        "from solana_manager import SolanaWalletManager, SolanaAccountInfo, SolanaTransfer, SolanaUtils\n",
        "import os"
      ]
    },
    {
      "cell_type": "code",
      "execution_count": null,
      "metadata": {},
      "outputs": [],
      "source": [
        "# Configuración de red\n",
        "NETWORK = \"mainnet-beta\"\n",
        "RPC_URL = \"https://api.mainnet-beta.solana.com\"\n",
        "\n",
        "# Inicializar manager principal\n",
        "wallet_manager = SolanaWalletManager(network=NETWORK, rpc_url=RPC_URL)\n",
        "\n",
        "# Inicializar herramientas\n",
        "account_info = SolanaAccountInfo(wallet_manager)\n",
        "transfer_manager = SolanaTransfer(wallet_manager)\n",
        "utils = SolanaUtils(wallet_manager)\n",
        "\n",
        "print(f\"✅ Solana Manager inicializado en {NETWORK}\")\n"
      ]
    },
    {
      "cell_type": "markdown",
      "metadata": {},
      "source": [
        "## 1. Gestión de Wallets\n",
        "\n",
        "Herramientas para crear, cargar y gestionar wallets de Solana."
      ]
    },
    {
      "cell_type": "markdown",
      "metadata": {},
      "source": [
        "### 1.1 Crear Nueva Wallet"
      ]
    },
    {
      "cell_type": "code",
      "execution_count": null,
      "metadata": {},
      "outputs": [],
      "source": [
        "# Crear nueva wallet y guardarla en archivo\n",
        "wallet_filename = wallet_manager.create_wallet_file()\n",
        "\n",
        "if wallet_filename:\n",
        "    print(f\"\\n📁 Wallet guardada en: {wallet_filename}\")\n",
        "    print(f\"📍 Dirección: {wallet_manager.get_address()}\")\n",
        "    print(\"⚠️  IMPORTANTE: Guarda este archivo de forma segura\")\n"
      ]
    },
    {
      "cell_type": "markdown",
      "metadata": {},
      "source": [
        "### 1.2 Cargar Wallet Existente"
      ]
    },
    {
      "cell_type": "code",
      "execution_count": null,
      "metadata": {},
      "outputs": [],
      "source": [
        "# Cargar wallet desde archivo (cambia por tu archivo)\n",
        "WALLET_FILE = \"wallets/mi_wallet_20250611_192531.json\"\n",
        "\n",
        "if os.path.exists(WALLET_FILE):\n",
        "    success = wallet_manager.load_wallet(WALLET_FILE)\n",
        "    if success:\n",
        "        print(f\"✅ Wallet cargada exitosamente\")\n",
        "        print(f\"📍 Dirección: {wallet_manager.get_address()}\")\n",
        "    else:\n",
        "        print(\"❌ Error cargando wallet\")\n",
        "else:\n",
        "    print(f\"❌ Archivo {WALLET_FILE} no encontrado\")\n",
        "    print(\"💡 Ejecuta la celda anterior para crear una nueva wallet\")\n"
      ]
    },
    {
      "cell_type": "markdown",
      "metadata": {},
      "source": [
        "### 1.3 Cargar Wallet desde Clave Privada"
      ]
    },
    {
      "cell_type": "code",
      "execution_count": null,
      "metadata": {},
      "outputs": [],
      "source": [
        "# Cargar wallet desde clave privada\n",
        "PRIVATE_KEY = \"PRIVATE_KEY\"\n",
        "\n",
        "keypair = wallet_manager.load_wallet_from_private_key(PRIVATE_KEY)\n",
        "if keypair:\n",
        "    print(f\"✅ Wallet cargada desde clave privada\")\n",
        "    print(f\"📍 Dirección: {wallet_manager.get_address()}\")\n",
        "\n",
        "print(\"💡 Descomenta el código de arriba y agrega tu clave privada para usar esta función\")\n"
      ]
    },
    {
      "cell_type": "markdown",
      "metadata": {},
      "source": [
        "## 2. Información de Cuentas\n",
        "\n",
        "Consultar balances, tokens y estado de cuentas."
      ]
    },
    {
      "cell_type": "markdown",
      "metadata": {},
      "source": [
        "### 2.1 Balance Completo de Wallet"
      ]
    },
    {
      "cell_type": "code",
      "execution_count": null,
      "metadata": {},
      "outputs": [],
      "source": [
        "if wallet_manager.is_wallet_loaded():\n",
        "    address = wallet_manager.get_address()\n",
        "    balance_info = account_info.get_balance_info(address)\n",
        "    \n",
        "    print(f\"\\n💰 BALANCE COMPLETO\")\n",
        "    print(f\"📍 Wallet: {address}\")\n",
        "    print(f\"💎 SOL: {balance_info['sol_balance']:.9f}\")\n",
        "    print(f\"💵 Valor USD: ${balance_info['usd_value']:.2f}\")\n",
        "    print(f\"📊 Precio SOL: ${balance_info['sol_price_usd']:.2f}\")\n",
        "else:\n",
        "    print(\"❌ No hay wallet cargada. Ejecuta las celdas de la sección 1 primero.\")\n"
      ]
    },
    {
      "cell_type": "markdown",
      "metadata": {},
      "source": [
        "### 2.2 Tokens SPL en la Wallet"
      ]
    },
    {
      "cell_type": "code",
      "execution_count": null,
      "metadata": {},
      "outputs": [],
      "source": [
        "if wallet_manager.is_wallet_loaded():\n",
        "    address = wallet_manager.get_address()\n",
        "    token_accounts = account_info.get_token_accounts(address)\n",
        "    \n",
        "    if token_accounts:\n",
        "        print(f\"\\n🪙 TOKENS SPL ENCONTRADOS: {len(token_accounts)}\")\n",
        "        print(\"=\" * 60)\n",
        "        \n",
        "        for i, token in enumerate(token_accounts, 1):\n",
        "            print(f\"\\n{i}. Token:\")\n",
        "            print(f\"   📍 Mint: {token['mint']}\")\n",
        "            print(f\"   💰 Balance: {token['balance']:,.{min(token['decimals'], 6)}f}\")\n",
        "            print(f\"   🔢 Decimales: {token['decimals']}\")\n",
        "            print(f\"   🏦 Cuenta: {token['account_address']}\")\n",
        "    else:\n",
        "        print(\"📭 No se encontraron tokens SPL en esta wallet\")\n",
        "else:\n",
        "    print(\"❌ No hay wallet cargada\")\n"
      ]
    },
    {
      "cell_type": "markdown",
      "metadata": {},
      "source": [
        "### 2.3 Información Detallada de Cuenta"
      ]
    },
    {
      "cell_type": "code",
      "execution_count": null,
      "metadata": {},
      "outputs": [],
      "source": [
        "if wallet_manager.is_wallet_loaded():\n",
        "    address = wallet_manager.get_address()\n",
        "    account_details = account_info.get_account_info(address)\n",
        "    \n",
        "    print(f\"\\n🔍 INFORMACIÓN DETALLADA DE CUENTA\")\n",
        "    print(\"=\" * 50)\n",
        "    print(f\"📍 Dirección: {account_details['address']}\")\n",
        "    print(f\"💰 Balance SOL: {account_details['sol_balance']:.9f}\")\n",
        "    print(f\"🏦 Lamports: {account_details['lamports']:,}\")\n",
        "    print(f\"✅ Existe: {account_details['exists']}\")\n",
        "    print(f\"🌐 Red: {account_details['network']}\")\n",
        "    \n",
        "    if account_details.get('executable') is not None:\n",
        "        print(f\"⚙️ Ejecutable: {account_details['executable']}\")\n",
        "        print(f\"👤 Owner: {account_details['owner']}\")\n",
        "        print(f\"📊 Tamaño datos: {account_details['data_length']} bytes\")\n",
        "else:\n",
        "    print(\"❌ No hay wallet cargada\")\n"
      ]
    },
    {
      "cell_type": "markdown",
      "metadata": {},
      "source": [
        "## 3. Transferencias SOL\n",
        "\n",
        "Enviar SOL a otras wallets."
      ]
    },
    {
      "cell_type": "markdown",
      "metadata": {},
      "source": [
        "### 3.1 Estimar Comisiones de Transferencia"
      ]
    },
    {
      "cell_type": "code",
      "execution_count": null,
      "metadata": {},
      "outputs": [],
      "source": [
        "# Estimar comisiones para una transferencia\n",
        "AMOUNT_TO_SEND = 0.093827  # SOL\n",
        "\n",
        "fee_estimate = transfer_manager.get_transfer_fee_estimate(AMOUNT_TO_SEND)\n",
        "\n",
        "print(f\"\\n💸 ESTIMACIÓN DE COMISIONES\")\n",
        "print(\"=\" * 40)\n",
        "print(f\"💰 Cantidad a enviar: {fee_estimate['amount_sol']} SOL\")\n",
        "print(f\"💳 Comisión estimada: {fee_estimate['fee_sol']:.9f} SOL\")\n",
        "print(f\"📊 Costo total: {fee_estimate['total_cost_sol']:.9f} SOL\")\n",
        "print(f\"🌐 Red: {fee_estimate['network']}\")\n"
      ]
    },
    {
      "cell_type": "markdown",
      "metadata": {},
      "source": [
        "### 3.2 Transferir SOL"
      ]
    },
    {
      "cell_type": "code",
      "execution_count": null,
      "metadata": {},
      "outputs": [],
      "source": [
        "# ⚠️ CUIDADO: Esta celda transfiere SOL real\n",
        "# Configura los valores para usar\n",
        "\n",
        "DESTINATION_ADDRESS = \"GMN2f6PsBwUKKpuxQdsJGveJKsNEgiH7APVwdfBtnAtz\"\n",
        "AMOUNT_SOL = 0.093821719  # Cantidad en SOL\n",
        "\n",
        "if wallet_manager.is_wallet_loaded():\n",
        "    # Validar dirección destino\n",
        "    if utils.validate_address(DESTINATION_ADDRESS):\n",
        "        print(f\"🔄 Iniciando transferencia de {AMOUNT_SOL} SOL...\")\n",
        "        \n",
        "        signature = transfer_manager.transfer_sol(\n",
        "            from_keypair=wallet_manager.keypair,\n",
        "            to_address=DESTINATION_ADDRESS,\n",
        "            amount_sol=AMOUNT_SOL\n",
        "        )\n",
        "        \n",
        "        if signature:\n",
        "            print(f\"✅ Transferencia exitosa!\")\n",
        "            print(f\"🔗 Signature: {signature}\")\n",
        "        else:\n",
        "            print(\"❌ Error en la transferencia\")\n",
        "    else:\n",
        "        print(\"❌ Dirección destino inválida\")\n",
        "else:\n",
        "    print(\"❌ No hay wallet cargada\")\n"
      ]
    },
    {
      "cell_type": "markdown",
      "metadata": {},
      "source": [
        "## 4. Utilidades de Solana\n",
        "\n",
        "Herramientas útiles para validación, conversiones y información de red."
      ]
    },
    {
      "cell_type": "markdown",
      "metadata": {},
      "source": [
        "### 4.1 Validar Direcciones"
      ]
    },
    {
      "cell_type": "code",
      "execution_count": null,
      "metadata": {},
      "outputs": [],
      "source": [
        "# Validar direcciones de Solana\n",
        "test_addresses = [\n",
        "    \"11111111111111111111111111111112\",  # System Program\n",
        "    \"So11111111111111111111111111111111111111112\",  # WSOL\n",
        "    \"direccion_invalida\",  # Inválida\n",
        "    \"TokenkegQfeZyiNwAJbNbGKPFXCWuBvf9Ss623VQ5DA\"  # Token Program\n",
        "]\n",
        "\n",
        "print(\"🔍 VALIDANDO DIRECCIONES\")\n",
        "print(\"=\" * 50)\n",
        "\n",
        "for i, address in enumerate(test_addresses, 1):\n",
        "    print(f\"\\n{i}. {address[:30]}...\")\n",
        "    is_valid = utils.validate_address(address)\n",
        "    print(f\"   Resultado: {'✅ Válida' if is_valid else '❌ Inválida'}\")\n"
      ]
    },
    {
      "cell_type": "markdown",
      "metadata": {},
      "source": [
        "### 4.2 Información de Red"
      ]
    },
    {
      "cell_type": "code",
      "execution_count": null,
      "metadata": {},
      "outputs": [],
      "source": [
        "# Obtener información de la red Solana\n",
        "network_info = utils.get_network_info()\n",
        "\n",
        "if network_info:\n",
        "    print(f\"\\n🌐 INFORMACIÓN DE RED\")\n",
        "    print(\"=\" * 40)\n",
        "    print(f\"🌍 Red: {network_info['network']}\")\n",
        "    print(f\"🔗 RPC URL: {network_info['rpc_url']}\")\n",
        "    print(f\"📊 Slot actual: {network_info['current_slot']:,}\")\n",
        "    print(f\"✅ Estado: {network_info['status']}\")\n",
        "    print(f\"⏰ Timestamp: {network_info['timestamp']}\")\n",
        "else:\n",
        "    print(\"❌ No se pudo obtener información de red\")\n"
      ]
    },
    {
      "cell_type": "markdown",
      "metadata": {},
      "source": [
        "### 4.3 Conversiones SOL ↔ Lamports"
      ]
    },
    {
      "cell_type": "code",
      "execution_count": null,
      "metadata": {},
      "outputs": [],
      "source": [
        "# Conversiones entre SOL y lamports\n",
        "test_values = {\n",
        "    \"sol_amounts\": [0.001, 0.1, 1.0, 10.5],\n",
        "    \"lamport_amounts\": [1000000, 100000000, 1000000000, 5000000000]\n",
        "}\n",
        "\n",
        "print(\"🔄 CONVERSIONES SOL ↔ LAMPORTS\")\n",
        "print(\"=\" * 50)\n",
        "\n",
        "print(\"\\n📈 SOL → Lamports:\")\n",
        "for sol in test_values[\"sol_amounts\"]:\n",
        "    lamports = utils.convert_sol_to_lamports(sol)\n",
        "    print(f\"   {sol} SOL = {lamports:,} lamports\")\n",
        "\n",
        "print(\"\\n📉 Lamports → SOL:\")\n",
        "for lamports in test_values[\"lamport_amounts\"]:\n",
        "    sol = utils.convert_lamports_to_sol(lamports)\n",
        "    formatted = utils.format_balance(lamports)\n",
        "    print(f\"   {lamports:,} lamports = {formatted}\")\n"
      ]
    },
    {
      "cell_type": "markdown",
      "metadata": {},
      "source": [
        "### 4.4 Precio de SOL y Cálculos USD"
      ]
    },
    {
      "cell_type": "code",
      "execution_count": null,
      "metadata": {},
      "outputs": [],
      "source": [
        "# Obtener precio actual de SOL y calcular valores\n",
        "sol_amounts = [0.1, 1.0, 5.0, 10.0]\n",
        "\n",
        "print(\"💵 PRECIO DE SOL Y VALORES USD\")\n",
        "print(\"=\" * 50)\n",
        "\n",
        "# Obtener precio actual\n",
        "sol_price = utils.get_solana_price_usd()\n",
        "\n",
        "if sol_price > 0:\n",
        "    print(f\"\\n💰 Precio actual: ${sol_price:.2f} USD\")\n",
        "    print(\"\\n📊 Valores calculados:\")\n",
        "    \n",
        "    for amount in sol_amounts:\n",
        "        value_usd = amount * sol_price\n",
        "        print(f\"   {amount} SOL = ${value_usd:.2f} USD\")\n",
        "else:\n",
        "    print(\"❌ No se pudo obtener el precio de SOL\")\n",
        "    print(\"💡 Verifica tu conexión a internet\")\n"
      ]
    }
  ],
  "metadata": {
    "kernelspec": {
      "display_name": "DEXES-5nxnSWMP",
      "language": "python",
      "name": "python3"
    },
    "language_info": {
      "codemirror_mode": {
        "name": "ipython",
        "version": 3
      },
      "file_extension": ".py",
      "mimetype": "text/x-python",
      "name": "python",
      "nbconvert_exporter": "python",
      "pygments_lexer": "ipython3",
      "version": "3.13.3"
    }
  },
  "nbformat": 4,
  "nbformat_minor": 2
}
