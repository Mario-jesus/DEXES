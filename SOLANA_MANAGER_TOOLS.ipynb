{
  "cells": [
    {
      "cell_type": "markdown",
      "metadata": {},
      "source": [
        "# Solana Manager Tools\n",
        "\n",
        "Este notebook contiene herramientas completas para gestionar wallets, transferencias y utilidades de Solana."
      ]
    },
    {
      "cell_type": "markdown",
      "metadata": {},
      "source": [
        "### Importaciones y Configuración"
      ]
    },
    {
      "cell_type": "code",
      "execution_count": 1,
      "metadata": {},
      "outputs": [],
      "source": [
        "from solana_manager import SolanaWalletManager, SolanaAccountInfo, SolanaTransfer, SolanaUtils\n",
        "import os"
      ]
    },
    {
      "cell_type": "code",
      "execution_count": 2,
      "metadata": {},
      "outputs": [],
      "source": [
        "# Configuración de red\n",
        "NETWORK = \"mainnet-beta\"\n",
        "RPC_URL = \"https://api.mainnet-beta.solana.com\""
      ]
    },
    {
      "cell_type": "markdown",
      "metadata": {},
      "source": [
        "## 1. Gestión de Wallets\n",
        "\n",
        "Herramientas para crear, cargar y gestionar wallets de Solana."
      ]
    },
    {
      "cell_type": "markdown",
      "metadata": {},
      "source": [
        "### 1.1 Crear Nueva Wallet"
      ]
    },
    {
      "cell_type": "code",
      "execution_count": 3,
      "metadata": {},
      "outputs": [
        {
          "name": "stdout",
          "output_type": "stream",
          "text": [
            "🌐 Conectado a Solana mainnet-beta (RPC: https://api.mainnet-beta.solana.com)\n",
            "✅ Nueva wallet creada exitosamente\n",
            "📍 Dirección pública: 9EWkSs5sW6sY6D5CPrAUBnDAficsHYEpm1uRCSqdZ9jJ\n",
            "💾 Guardada en: wallets/wallet_20250708_192601.json\n",
            "⚠️  GUARDA EL ARCHIVO EN UN LUGAR SEGURO\n",
            "\n",
            "📁 Wallet guardada en: wallets/wallet_20250708_192601.json\n",
            "📍 Dirección: 9EWkSs5sW6sY6D5CPrAUBnDAficsHYEpm1uRCSqdZ9jJ\n",
            "⚠️  IMPORTANTE: Guarda este archivo de forma segura\n",
            "🔌 Conexión a Solana cerrada.\n"
          ]
        }
      ],
      "source": [
        "# Crear nueva wallet y guardarla en archivo\n",
        "async def create_wallet():\n",
        "    async with SolanaWalletManager(network=\"mainnet-beta\") as wallet_manager:\n",
        "        wallet_filename = await wallet_manager.create_wallet_file(filename=None)\n",
        "\n",
        "        if wallet_filename:\n",
        "            print(f\"\\n📁 Wallet guardada en: {wallet_filename}\")\n",
        "            print(f\"📍 Dirección: {wallet_manager.get_address()}\")\n",
        "            print(\"⚠️  IMPORTANTE: Guarda este archivo de forma segura\")\n",
        "\n",
        "await create_wallet()"
      ]
    },
    {
      "cell_type": "markdown",
      "metadata": {},
      "source": [
        "### 1.2 Cargar Wallet Existente"
      ]
    },
    {
      "cell_type": "code",
      "execution_count": 4,
      "metadata": {},
      "outputs": [
        {
          "name": "stdout",
          "output_type": "stream",
          "text": [
            "🌐 Conectado a Solana mainnet-beta (RPC: https://api.mainnet-beta.solana.com)\n",
            "📂 Wallet cargada desde wallets/mi_wallet_20250611_192531.json\n",
            "📍 Dirección: EJycPTHve5wgRkLyf6BzwjrSi4HUnqUkThYfwpegrGei\n",
            "✅ Wallet cargada exitosamente\n",
            "📍 Dirección: EJycPTHve5wgRkLyf6BzwjrSi4HUnqUkThYfwpegrGei\n",
            "🔌 Conexión a Solana cerrada.\n"
          ]
        }
      ],
      "source": [
        "# Cargar wallet desde archivo (cambia por tu archivo)\n",
        "async def load_wallet():\n",
        "    WALLET_FILE = \"wallets/mi_wallet_20250611_192531.json\"\n",
        "\n",
        "    async with SolanaWalletManager(network=\"mainnet-beta\") as wallet_manager:\n",
        "        if os.path.exists(WALLET_FILE):\n",
        "            success = await wallet_manager.load_wallet(WALLET_FILE)\n",
        "            if success:\n",
        "                print(f\"✅ Wallet cargada exitosamente\")\n",
        "                print(f\"📍 Dirección: {wallet_manager.get_address() or 'No se pudo obtener la dirección'}\")\n",
        "            else:\n",
        "                print(\"❌ Error cargando wallet\")\n",
        "        else:\n",
        "            print(f\"❌ Archivo {WALLET_FILE} no encontrado\")\n",
        "            print(\"💡 Ejecuta la celda anterior para crear una nueva wallet\")\n",
        "\n",
        "await load_wallet()"
      ]
    },
    {
      "cell_type": "markdown",
      "metadata": {},
      "source": [
        "### 1.3 Cargar Wallet desde Clave Privada"
      ]
    },
    {
      "cell_type": "code",
      "execution_count": null,
      "metadata": {},
      "outputs": [
        {
          "name": "stdout",
          "output_type": "stream",
          "text": [
            "🌐 Conectado a Solana mainnet-beta (RPC: https://api.mainnet-beta.solana.com)\n",
            "✅ Wallet cargada exitosamente\n",
            "📍 Dirección: 9EWkSs5sW6sY6D5CPrAUBnDAficsHYEpm1uRCSqdZ9jJ\n",
            "✅ Wallet cargada desde clave privada\n",
            "📍 Dirección: 9EWkSs5sW6sY6D5CPrAUBnDAficsHYEpm1uRCSqdZ9jJ\n",
            "💡 Descomenta el código de arriba y agrega tu clave privada para usar esta función\n",
            "🔌 Conexión a Solana cerrada.\n"
          ]
        }
      ],
      "source": [
        "async def load_wallet_from_private_key():\n",
        "    # Cargar wallet desde clave privada\n",
        "    PRIVATE_KEY = \"YOUR PRIVATE KEY HERE\"\n",
        "\n",
        "    async with SolanaWalletManager(network=\"mainnet-beta\") as wallet_manager:\n",
        "        keypair = await wallet_manager.load_wallet_from_private_key(PRIVATE_KEY)\n",
        "        if keypair:\n",
        "            print(f\"✅ Wallet cargada desde clave privada\")\n",
        "            print(f\"📍 Dirección: {wallet_manager.get_address()}\")\n",
        "\n",
        "        print(\"💡 Descomenta el código de arriba y agrega tu clave privada para usar esta función\")\n",
        "\n",
        "await load_wallet_from_private_key()"
      ]
    },
    {
      "cell_type": "markdown",
      "metadata": {},
      "source": [
        "## 2. Información de Cuentas\n",
        "\n",
        "Consultar balances, tokens y estado de cuentas."
      ]
    },
    {
      "cell_type": "markdown",
      "metadata": {},
      "source": [
        "### 2.1 Balance Completo de Wallet"
      ]
    },
    {
      "cell_type": "code",
      "execution_count": 6,
      "metadata": {},
      "outputs": [
        {
          "name": "stdout",
          "output_type": "stream",
          "text": [
            "🌐 Conectado a Solana mainnet-beta (RPC: https://api.mainnet-beta.solana.com)\n",
            "📂 Wallet cargada desde wallets/wallet_pumpfun.json\n",
            "📍 Dirección: GMN2f6PsBwUKKpuxQdsJGveJKsNEgiH7APVwdfBtnAtz\n",
            "🌐 Conectado a Solana mainnet-beta (RPC: https://api.mainnet-beta.solana.com)\n",
            "📊 Balance completo:\n",
            "   📍 Dirección: GMN2f6PsBwUKKpuxQdsJGveJKsNEgiH7APVwdfBtnAtz\n",
            "   💰 Balance SOL: 0.086076 SOL\n",
            "   💵 Precio SOL: $151.84 USD\n",
            "   💸 Valor total: $13.07 USD\n",
            "\n",
            "💰 BALANCE COMPLETO\n",
            "📍 Wallet: GMN2f6PsBwUKKpuxQdsJGveJKsNEgiH7APVwdfBtnAtz\n",
            "💎 SOL: 0.086075553\n",
            "💵 Valor USD: $13.07\n",
            "📊 Precio SOL: $151.84\n",
            "🔌 Conexión a Solana cerrada.\n"
          ]
        }
      ],
      "source": [
        "async def get_balance_info():\n",
        "    WALLET_FILE = \"wallets/wallet_pumpfun.json\"\n",
        "\n",
        "    async with SolanaWalletManager(network=\"mainnet-beta\") as wallet_manager:\n",
        "        await wallet_manager.load_wallet(WALLET_FILE)\n",
        "        if wallet_manager.is_wallet_loaded():\n",
        "            address = wallet_manager.get_address()\n",
        "\n",
        "            async with SolanaAccountInfo(network=\"mainnet-beta\") as account_info:\n",
        "                balance_info = await account_info.get_balance_info(address)\n",
        "\n",
        "                print(f\"\\n💰 BALANCE COMPLETO\")\n",
        "                print(f\"📍 Wallet: {address}\")\n",
        "                print(f\"💎 SOL: {balance_info['sol_balance']:.9f}\")\n",
        "                print(f\"💵 Valor USD: ${balance_info['usd_value']:.2f}\")\n",
        "                print(f\"📊 Precio SOL: ${balance_info['sol_price_usd']:.2f}\")\n",
        "        else:\n",
        "            print(\"❌ No hay wallet cargada. Ejecuta las celdas de la sección 1 primero.\")\n",
        "\n",
        "await get_balance_info()"
      ]
    },
    {
      "cell_type": "markdown",
      "metadata": {},
      "source": [
        "### 2.2 Tokens SPL en la Wallet"
      ]
    },
    {
      "cell_type": "code",
      "execution_count": 7,
      "metadata": {},
      "outputs": [
        {
          "name": "stdout",
          "output_type": "stream",
          "text": [
            "🌐 Conectado a Solana mainnet-beta (RPC: https://api.mainnet-beta.solana.com)\n",
            "📂 Wallet cargada desde wallets/wallet_pumpfun.json\n",
            "📍 Dirección: GMN2f6PsBwUKKpuxQdsJGveJKsNEgiH7APVwdfBtnAtz\n",
            "🌐 Conectado a Solana mainnet-beta (RPC: https://api.mainnet-beta.solana.com)\n",
            "🪙 Encontradas 1 cuentas de tokens:\n",
            "   1. Mint: BrsDE7TVVfDxrUSQv6x38nqKQiUoiSh3RAEoj2kSpump\n",
            "      Balance: 35.408998 tokens (6 decimales)\n",
            "      Cuenta: 9etoBkEs6cBBeoWaXysRZKXobuGstBbGJtXaA1qZ1eoG\n",
            "\n",
            "🪙 TOKENS SPL ENCONTRADOS: 1\n",
            "============================================================\n",
            "\n",
            "1. Token:\n",
            "   📍 Mint: BrsDE7TVVfDxrUSQv6x38nqKQiUoiSh3RAEoj2kSpump\n",
            "   💰 Balance: 35.408998\n",
            "   🔢 Decimales: 6\n",
            "   🏦 Cuenta: 9etoBkEs6cBBeoWaXysRZKXobuGstBbGJtXaA1qZ1eoG\n",
            "🔌 Conexión a Solana cerrada.\n"
          ]
        }
      ],
      "source": [
        "async def get_token_accounts():\n",
        "    WALLET_FILE = \"wallets/wallet_pumpfun.json\"\n",
        "\n",
        "    async with SolanaWalletManager(network=\"mainnet-beta\") as wallet_manager:\n",
        "        await wallet_manager.load_wallet(WALLET_FILE)\n",
        "\n",
        "        if not wallet_manager.is_wallet_loaded():\n",
        "            print(\"❌ No hay wallet cargada\")\n",
        "            return\n",
        "\n",
        "        async with SolanaAccountInfo(network=\"mainnet-beta\") as account_info:\n",
        "            address = wallet_manager.get_address()\n",
        "            token_accounts = await account_info.get_token_accounts(address)\n",
        "\n",
        "            if not token_accounts:\n",
        "                print(\"❌ No se encontraron tokens SPL en esta wallet\")\n",
        "                return\n",
        "\n",
        "            print(f\"\\n🪙 TOKENS SPL ENCONTRADOS: {len(token_accounts)}\")\n",
        "            print(\"=\" * 60)\n",
        "\n",
        "            i = 0\n",
        "            for i, token in enumerate(token_accounts, 1):\n",
        "                    print(f\"\\n{i}. Token:\")\n",
        "                    print(f\"   📍 Mint: {token['mint']}\")\n",
        "                    print(f\"   💰 Balance: {token['balance']:,.{min(token['decimals'], 6)}f}\")\n",
        "                    print(f\"   🔢 Decimales: {token['decimals']}\")\n",
        "                    print(f\"   🏦 Cuenta: {token['account_address']}\")\n",
        "\n",
        "            if i == 0:\n",
        "                print(\"📭 No se encontraron tokens SPL en esta wallet\")\n",
        "\n",
        "await get_token_accounts()"
      ]
    },
    {
      "cell_type": "markdown",
      "metadata": {},
      "source": [
        "### 2.3 Información Detallada de Cuenta"
      ]
    },
    {
      "cell_type": "code",
      "execution_count": 8,
      "metadata": {},
      "outputs": [
        {
          "name": "stdout",
          "output_type": "stream",
          "text": [
            "🌐 Conectado a Solana mainnet-beta (RPC: https://api.mainnet-beta.solana.com)\n",
            "📂 Wallet cargada desde wallets/wallet_pumpfun.json\n",
            "📍 Dirección: GMN2f6PsBwUKKpuxQdsJGveJKsNEgiH7APVwdfBtnAtz\n",
            "🌐 Conectado a Solana mainnet-beta (RPC: https://api.mainnet-beta.solana.com)\n",
            "📊 Información de cuenta:\n",
            "   📍 Dirección: GMN2f6PsBwUKKpuxQdsJGveJKsNEgiH7APVwdfBtnAtz\n",
            "   💰 Balance SOL: 0.086075553\n",
            "   🏦 Lamports: 86,075,553\n",
            "   ✅ Existe: True\n",
            "\n",
            "🔍 INFORMACIÓN DETALLADA DE CUENTA\n",
            "==================================================\n",
            "📍 Dirección: GMN2f6PsBwUKKpuxQdsJGveJKsNEgiH7APVwdfBtnAtz\n",
            "💰 Balance SOL: 0.086075553\n",
            "🏦 Lamports: 86,075,553\n",
            "✅ Existe: True\n",
            "🌐 Red: mainnet-beta\n",
            "⚙️ Ejecutable: False\n",
            "👤 Owner: 11111111111111111111111111111111\n",
            "📊 Tamaño datos: 0 bytes\n",
            "🪙 Encontradas 1 cuentas de tokens:\n",
            "   1. Mint: BrsDE7TVVfDxrUSQv6x38nqKQiUoiSh3RAEoj2kSpump\n",
            "      Balance: 35.408998 tokens (6 decimales)\n",
            "      Cuenta: 9etoBkEs6cBBeoWaXysRZKXobuGstBbGJtXaA1qZ1eoG\n",
            "\n",
            "🪙 TOKENS SPL ENCONTRADOS: 1\n",
            "============================================================\n",
            "\n",
            "1. Token:\n",
            "   📍 Mint: BrsDE7TVVfDxrUSQv6x38nqKQiUoiSh3RAEoj2kSpump\n",
            "   💰 Balance: 35.408998\n",
            "   🔢 Decimales: 6\n",
            "   🏦 Cuenta: 9etoBkEs6cBBeoWaXysRZKXobuGstBbGJtXaA1qZ1eoG\n",
            "🔌 Conexión a Solana cerrada.\n"
          ]
        }
      ],
      "source": [
        "async def get_account_info():\n",
        "    WALLET_FILE = \"wallets/wallet_pumpfun.json\"\n",
        "\n",
        "    async with SolanaWalletManager(network=\"mainnet-beta\") as wallet_manager:\n",
        "        await wallet_manager.load_wallet(WALLET_FILE)\n",
        "        if not wallet_manager.is_wallet_loaded():\n",
        "            print(\"❌ No hay wallet cargada\")\n",
        "            return\n",
        "\n",
        "        async with SolanaAccountInfo(network=\"mainnet-beta\") as account_info:\n",
        "            address = wallet_manager.get_address()\n",
        "            account_details = await account_info.get_account_info(address)\n",
        "\n",
        "            print(f\"\\n🔍 INFORMACIÓN DETALLADA DE CUENTA\")\n",
        "            print(\"=\" * 50)\n",
        "            print(f\"📍 Dirección: {account_details['address']}\")\n",
        "            print(f\"💰 Balance SOL: {account_details['sol_balance']:.9f}\")\n",
        "            print(f\"🏦 Lamports: {account_details['lamports']:,}\")\n",
        "            print(f\"✅ Existe: {account_details['exists']}\")\n",
        "            print(f\"🌐 Red: {account_details['network']}\")\n",
        "\n",
        "            if account_details.get('executable') is not None:\n",
        "                print(f\"⚙️ Ejecutable: {account_details['executable']}\")\n",
        "                print(f\"👤 Owner: {account_details['owner']}\")\n",
        "                print(f\"📊 Tamaño datos: {account_details['data_length']} bytes\")\n",
        "\n",
        "            # ====================== TOKENS ======================\n",
        "            token_accounts = await account_info.get_token_accounts(address)\n",
        "\n",
        "            if not token_accounts:\n",
        "                print(\"❌ No se encontraron tokens SPL en esta wallet\")\n",
        "                return\n",
        "\n",
        "            print(f\"\\n🪙 TOKENS SPL ENCONTRADOS: {len(token_accounts)}\")\n",
        "            print(\"=\" * 60)\n",
        "\n",
        "            i = 0\n",
        "            for i, token in enumerate(token_accounts, 1):\n",
        "                    print(f\"\\n{i}. Token:\")\n",
        "                    print(f\"   📍 Mint: {token['mint']}\")\n",
        "                    print(f\"   💰 Balance: {token['balance']:,.{min(token['decimals'], 6)}f}\")\n",
        "                    print(f\"   🔢 Decimales: {token['decimals']}\")\n",
        "                    print(f\"   🏦 Cuenta: {token['account_address']}\")\n",
        "\n",
        "            if i == 0:\n",
        "                print(\"📭 No se encontraron tokens SPL en esta wallet\")\n",
        "\n",
        "await get_account_info()\n"
      ]
    },
    {
      "cell_type": "markdown",
      "metadata": {},
      "source": [
        "## 3. Transferencias SOL\n",
        "\n",
        "Enviar SOL a otras wallets."
      ]
    },
    {
      "cell_type": "markdown",
      "metadata": {},
      "source": [
        "### 3.1 Estimar Comisiones de Transferencia"
      ]
    },
    {
      "cell_type": "code",
      "execution_count": 9,
      "metadata": {},
      "outputs": [
        {
          "name": "stdout",
          "output_type": "stream",
          "text": [
            "🌐 Conectado a Solana mainnet-beta (RPC: https://api.mainnet-beta.solana.com)\n",
            "📂 Wallet cargada desde wallets/wallet_pumpfun.json\n",
            "📍 Dirección: GMN2f6PsBwUKKpuxQdsJGveJKsNEgiH7APVwdfBtnAtz\n",
            "🌐 Conectado a Solana mainnet-beta (RPC: https://api.mainnet-beta.solana.com)\n",
            "🔄 Calculando comisiones dinámicamente...\n",
            "💸 Estimación de comisiones:\n",
            "   💰 Cantidad a enviar: 0.001 SOL (1,000,000 lamports)\n",
            "   💳 Tarifa base: 0.000005000 SOL (5,000 lamports)\n",
            "   ⚡ Tarifa priorización: 0.000000000 SOL (0 lamports)\n",
            "   📊 Tarifa total: 0.000005000 SOL (5,000 lamports)\n",
            "   💵 Costo total: 0.001005000 SOL\n",
            "   🌐 Red: mainnet-beta\n",
            "   📍 Slot actual: 352,052,763\n",
            "   🔧 Fuente del fee: dynamic_calculation\n",
            "   ⚙️ Unidades cómputo: 200,000\n",
            "   🎯 Prioridad micro-lamports: 1\n",
            "\n",
            "💸 ESTIMACIÓN DE COMISIONES\n",
            "==================================================\n",
            "💰 Cantidad a enviar: 0.001 SOL\n",
            "💳 Tarifa base: 0.000005000 SOL\n",
            "⚡ Tarifa priorización: 0.000000000 SOL\n",
            "📊 Tarifa total: 0.000005000 SOL\n",
            "💵 Costo total: 0.001005000 SOL\n",
            "🌐 Red: mainnet-beta\n",
            "⚙️ Unidades cómputo: 200,000\n",
            "🎯 Prioridad: 1 micro-lamports\n",
            "🔧 Fuente: dynamic_calculation\n",
            "🔌 Conexión a Solana cerrada.\n"
          ]
        }
      ],
      "source": [
        "async def get_transfer_fee_estimate(amount_to_send: float, compute_units_limit: int = 200000, priority_fee_micro_lamports: int = 1):\n",
        "    \"\"\"\n",
        "    Función actualizada para estimar comisiones de transferencia\n",
        "    \n",
        "    Args:\n",
        "        amount_to_send: Cantidad de SOL a enviar\n",
        "        compute_units_limit: Límite de unidades de cómputo (default: 200,000)\n",
        "        priority_fee_micro_lamports: Precio por unidad de cómputo en micro-lamports (default: 1)\n",
        "    \"\"\"\n",
        "    WALLET_FILE = \"wallets/wallet_pumpfun.json\"\n",
        "\n",
        "    async with SolanaWalletManager(network=\"mainnet-beta\") as wallet_manager:\n",
        "        await wallet_manager.load_wallet(WALLET_FILE)\n",
        "\n",
        "        if not wallet_manager.is_wallet_loaded():\n",
        "            print(\"❌ No hay wallet cargada\")\n",
        "            return\n",
        "\n",
        "        async with SolanaTransfer(network=\"mainnet-beta\") as transfer_manager:\n",
        "            fee_estimate = await transfer_manager.get_transfer_fee_estimate(\n",
        "                amount_to_send=amount_to_send,\n",
        "                compute_units_limit=compute_units_limit,\n",
        "                priority_fee_micro_lamports=priority_fee_micro_lamports\n",
        "            )\n",
        "\n",
        "            print(f\"\\n💸 ESTIMACIÓN DE COMISIONES\")\n",
        "            print(\"=\" * 50)\n",
        "            print(f\"💰 Cantidad a enviar: {fee_estimate['amount_sol']} SOL\")\n",
        "            print(f\"💳 Tarifa base: {fee_estimate['base_fee_sol']:.9f} SOL\")\n",
        "            print(f\"⚡ Tarifa priorización: {fee_estimate['priority_fee_sol']:.9f} SOL\")\n",
        "            print(f\"📊 Tarifa total: {fee_estimate['total_fee_sol']:.9f} SOL\")\n",
        "            print(f\"💵 Costo total: {fee_estimate['total_cost_sol']:.9f} SOL\")\n",
        "            print(f\"🌐 Red: {fee_estimate['network']}\")\n",
        "            print(f\"⚙️ Unidades cómputo: {fee_estimate['compute_units_limit']:,}\")\n",
        "            print(f\"🎯 Prioridad: {fee_estimate['priority_fee_micro_lamports']} micro-lamports\")\n",
        "            print(f\"🔧 Fuente: {fee_estimate['fee_source']}\")\n",
        "\n",
        "await get_transfer_fee_estimate(0.001)"
      ]
    },
    {
      "cell_type": "markdown",
      "metadata": {},
      "source": [
        "### 3.2 Transferir SOL"
      ]
    },
    {
      "cell_type": "code",
      "execution_count": 10,
      "metadata": {},
      "outputs": [
        {
          "name": "stdout",
          "output_type": "stream",
          "text": [
            "🌐 Conectado a Solana mainnet-beta (RPC: https://api.mainnet-beta.solana.com)\n",
            "📂 Wallet cargada desde wallets/wallet_pumpfun.json\n",
            "📍 Dirección: GMN2f6PsBwUKKpuxQdsJGveJKsNEgiH7APVwdfBtnAtz\n",
            "🌐 Conectado a Solana mainnet-beta (RPC: https://api.mainnet-beta.solana.com)\n",
            "🔌 Conexión a Solana cerrada.\n",
            "🌐 Conectado a Solana mainnet-beta (RPC: https://api.mainnet-beta.solana.com)\n",
            "🔄 Iniciando transferencia de 0.001 SOL...\n",
            "🔄 Iniciando transferencia de 0.001 SOL (Intento 1/3)\n",
            "🔄 Enviando transacción a la red...\n",
            "✅ Transacción enviada. Signature: 4gZdv8jsXnbaQpsE57k8umrvDkLSYdYiF4zN7ofxZUEuCsqa1jciMLzt34j38BbjrMeJrNUp3ftJMmoKKa24q6k1\n",
            "⏳ Confirmando transacción 4gZdv8jsXnbaQpsE57k8umrvDkLSYd...\n",
            "⌛️ Timeout esperando confirmación de la transacción.\n",
            "🎉 ¡Transferencia confirmada exitosamente!\n",
            "💰 Cantidad: 0.001 SOL\n",
            "📍 Desde: GMN2f6PsBwUKKpuxQdsJGveJKsNEgiH7APVwdfBtnAtz\n",
            "📍 Hacia: 62bzYQAbEhtc7eP3qb9G557fhLqcfNxeTKr6v1UshnD1\n",
            "🔗 Explorer: https://explorer.solana.com/tx/4gZdv8jsXnbaQpsE57k8umrvDkLSYdYiF4zN7ofxZUEuCsqa1jciMLzt34j38BbjrMeJrNUp3ftJMmoKKa24q6k1?cluster=mainnet-beta\n",
            "✅ Transferencia exitosa!\n",
            "🔗 Signature: 4gZdv8jsXnbaQpsE57k8umrvDkLSYdYiF4zN7ofxZUEuCsqa1jciMLzt34j38BbjrMeJrNUp3ftJMmoKKa24q6k1\n",
            "🔌 Conexión a Solana cerrada.\n"
          ]
        }
      ],
      "source": [
        "# ⚠️ CUIDADO: Esta celda transfiere SOL real\n",
        "# Configura los valores para usar\n",
        "\n",
        "async def transfer_sol():\n",
        "    WALLET_FILE = \"wallets/wallet_pumpfun.json\"\n",
        "    DESTINATION_ADDRESS = \"62bzYQAbEhtc7eP3qb9G557fhLqcfNxeTKr6v1UshnD1\"\n",
        "    AMOUNT_SOL = 0.001  # Cantidad en SOL\n",
        "\n",
        "    async with SolanaWalletManager(network=\"mainnet-beta\") as wallet_manager:\n",
        "        await wallet_manager.load_wallet(WALLET_FILE)\n",
        "        if not wallet_manager.is_wallet_loaded():\n",
        "            print(\"❌ No hay wallet cargada\")\n",
        "            return\n",
        "\n",
        "        async with SolanaUtils(network=\"mainnet-beta\") as utils:\n",
        "            # Validar dirección destino\n",
        "            if not await utils.validate_address(DESTINATION_ADDRESS):\n",
        "                print(\"❌ Dirección destino inválida\")\n",
        "                return\n",
        "\n",
        "        async with SolanaTransfer(network=\"mainnet-beta\") as transfer_manager:\n",
        "            print(f\"🔄 Iniciando transferencia de {AMOUNT_SOL} SOL...\")\n",
        "\n",
        "            signature = await transfer_manager.transfer_sol(\n",
        "                from_keypair=wallet_manager.keypair,\n",
        "                to_address=DESTINATION_ADDRESS,\n",
        "                amount_sol=AMOUNT_SOL\n",
        "            )\n",
        "\n",
        "            if signature:\n",
        "                print(f\"✅ Transferencia exitosa!\")\n",
        "                print(f\"🔗 Signature: {signature}\")\n",
        "            else:\n",
        "                print(\"❌ Error en la transferencia\")\n",
        "\n",
        "await transfer_sol()"
      ]
    },
    {
      "cell_type": "markdown",
      "metadata": {},
      "source": [
        "## 4. Utilidades de Solana\n",
        "\n",
        "Herramientas útiles para validación, conversiones y información de red."
      ]
    },
    {
      "cell_type": "markdown",
      "metadata": {},
      "source": [
        "### 4.1 Validar Direcciones"
      ]
    },
    {
      "cell_type": "code",
      "execution_count": 11,
      "metadata": {},
      "outputs": [
        {
          "name": "stdout",
          "output_type": "stream",
          "text": [
            "🌐 Conectado a Solana mainnet-beta (RPC: https://api.mainnet-beta.solana.com)\n",
            "\n",
            "1. 111111111111111111111111111111...\n",
            "   Resultado: ✅ Válida\n",
            "\n",
            "2. So1111111111111111111111111111...\n",
            "   Resultado: ✅ Válida\n",
            "\n",
            "3. direccion_invalida...\n",
            "   Resultado: ❌ Inválida\n",
            "\n",
            "4. TokenkegQfeZyiNwAJbNbGKPFXCWuB...\n",
            "   Resultado: ✅ Válida\n",
            "🔌 Conexión a Solana cerrada.\n"
          ]
        }
      ],
      "source": [
        "async def validate_address():\n",
        "    # Validar direcciones de Solana\n",
        "    test_addresses = [\n",
        "        \"11111111111111111111111111111112\",  # System Program\n",
        "        \"So11111111111111111111111111111111111111112\",  # WSOL\n",
        "        \"direccion_invalida\",  # Inválida\n",
        "        \"TokenkegQfeZyiNwAJbNbGKPFXCWuBvf9Ss623VQ5DA\"  # Token Program\n",
        "    ]\n",
        "\n",
        "    async with SolanaUtils(network=\"mainnet-beta\") as utils:\n",
        "        for i, address in enumerate(test_addresses, 1):\n",
        "            print(f\"\\n{i}. {address[:30]}...\")\n",
        "            is_valid = await utils.validate_address(address)\n",
        "            print(f\"   Resultado: {'✅ Válida' if is_valid else '❌ Inválida'}\")\n",
        "\n",
        "await validate_address()"
      ]
    },
    {
      "cell_type": "markdown",
      "metadata": {},
      "source": [
        "### 4.2 Información de Red"
      ]
    },
    {
      "cell_type": "code",
      "execution_count": 12,
      "metadata": {},
      "outputs": [
        {
          "name": "stdout",
          "output_type": "stream",
          "text": [
            "🌐 Conectado a Solana mainnet-beta (RPC: https://api.mainnet-beta.solana.com)\n",
            "🌐 Información de red:\n",
            "   Red: mainnet-beta\n",
            "   Slot actual: 352,055,663\n",
            "   Estado: connected\n",
            "🔌 Conexión a Solana cerrada.\n",
            "\n",
            "🌐 INFORMACIÓN DE RED\n",
            "========================================\n",
            "🌍 Red: mainnet-beta\n",
            "🔗 RPC URL: https://api.mainnet-beta.solana.com\n",
            "📊 Slot actual: 352,055,663\n",
            "✅ Estado: connected\n",
            "⏰ Timestamp: 2025-07-08T19:47:35.080756\n"
          ]
        }
      ],
      "source": [
        "async def get_network_info():\n",
        "    # Obtener información de la red Solana\n",
        "    async with SolanaUtils(network=\"mainnet-beta\") as utils:\n",
        "        network_info = await utils.get_network_info()\n",
        "\n",
        "        if not network_info:\n",
        "            print(\"❌ No se pudo obtener información de red\")\n",
        "            return\n",
        "\n",
        "    print(f\"\\n🌐 INFORMACIÓN DE RED\")\n",
        "    print(\"=\" * 40)\n",
        "    print(f\"🌍 Red: {network_info['network']}\")\n",
        "    print(f\"🔗 RPC URL: {network_info['rpc_url']}\")\n",
        "    print(f\"📊 Slot actual: {network_info['current_slot']:,}\")\n",
        "    print(f\"✅ Estado: {network_info['status']}\")\n",
        "    print(f\"⏰ Timestamp: {network_info['timestamp']}\")\n",
        "\n",
        "await get_network_info()\n"
      ]
    },
    {
      "cell_type": "markdown",
      "metadata": {},
      "source": [
        "### 4.3 Conversiones SOL ↔ Lamports"
      ]
    },
    {
      "cell_type": "code",
      "execution_count": 13,
      "metadata": {},
      "outputs": [
        {
          "name": "stdout",
          "output_type": "stream",
          "text": [
            "🔄 CONVERSIONES SOL ↔ LAMPORTS\n",
            "==================================================\n",
            "🌐 Conectado a Solana mainnet-beta (RPC: https://api.mainnet-beta.solana.com)\n",
            "\n",
            "📈 SOL → Lamports:\n",
            "   0.001 SOL = 1,000,000 lamports\n",
            "   0.1 SOL = 100,000,000 lamports\n",
            "   1.0 SOL = 1,000,000,000 lamports\n",
            "   10.5 SOL = 10,500,000,000 lamports\n",
            "\n",
            "📉 Lamports → SOL:\n",
            "   1,000,000 lamports = 0.001000000 SOL (1,000,000 lamports)\n",
            "   100,000,000 lamports = 0.100000000 SOL (100,000,000 lamports)\n",
            "   1,000,000,000 lamports = 1.000000000 SOL (1,000,000,000 lamports)\n",
            "   5,000,000,000 lamports = 5.000000000 SOL (5,000,000,000 lamports)\n",
            "🔌 Conexión a Solana cerrada.\n"
          ]
        }
      ],
      "source": [
        "# Conversiones entre SOL y lamports\n",
        "async def convert_sol_to_lamports():\n",
        "    test_values = {\n",
        "        \"sol_amounts\": [0.001, 0.1, 1.0, 10.5],\n",
        "        \"lamport_amounts\": [1000000, 100000000, 1000000000, 5000000000]\n",
        "    }\n",
        "\n",
        "    print(\"🔄 CONVERSIONES SOL ↔ LAMPORTS\")\n",
        "    print(\"=\" * 50)\n",
        "\n",
        "    async with SolanaUtils(network=\"mainnet-beta\") as utils:\n",
        "        print(\"\\n📈 SOL → Lamports:\")\n",
        "        for sol in test_values[\"sol_amounts\"]:\n",
        "            lamports = await utils.convert_sol_to_lamports(sol)\n",
        "            print(f\"   {sol} SOL = {lamports:,} lamports\")\n",
        "\n",
        "        print(\"\\n📉 Lamports → SOL:\")\n",
        "        for lamports in test_values[\"lamport_amounts\"]:\n",
        "            sol = await utils.convert_lamports_to_sol(lamports)\n",
        "            formatted = await utils.format_balance(lamports)\n",
        "            print(f\"   {lamports:,} lamports = {formatted}\")\n",
        "\n",
        "await convert_sol_to_lamports()"
      ]
    },
    {
      "cell_type": "markdown",
      "metadata": {},
      "source": [
        "### 4.4 Precio de SOL y Cálculos USD"
      ]
    },
    {
      "cell_type": "code",
      "execution_count": 14,
      "metadata": {},
      "outputs": [
        {
          "name": "stdout",
          "output_type": "stream",
          "text": [
            "💵 PRECIO DE SOL Y VALORES USD\n",
            "==================================================\n",
            "🌐 Conectado a Solana mainnet-beta (RPC: https://api.mainnet-beta.solana.com)\n",
            "💵 Precio SOL: $151.42 USD\n",
            "\n",
            "💰 Precio actual: $151.42 USD\n",
            "\n",
            "📊 Valores calculados:\n",
            "   0.1 SOL = $15.14 USD\n",
            "   1.0 SOL = $151.42 USD\n",
            "   5.0 SOL = $757.10 USD\n",
            "   10.0 SOL = $1514.20 USD\n",
            "🔌 Conexión a Solana cerrada.\n"
          ]
        }
      ],
      "source": [
        "# Obtener precio actual de SOL y calcular valores\n",
        "async def get_current_prince_and_calculate_values():\n",
        "    sol_amounts = [0.1, 1.0, 5.0, 10.0]\n",
        "\n",
        "    print(\"💵 PRECIO DE SOL Y VALORES USD\")\n",
        "    print(\"=\" * 50)\n",
        "\n",
        "    # Obtener precio actual\n",
        "    async with SolanaUtils(network=\"mainnet-beta\") as utils:\n",
        "        sol_price = await utils.get_solana_price_usd()\n",
        "\n",
        "        if not sol_price:\n",
        "            print(\"❌ No se pudo obtener el precio de SOL\")\n",
        "            print(\"💡 Verifica tu conexión a internet\")\n",
        "            return\n",
        "\n",
        "        print(f\"\\n💰 Precio actual: ${sol_price:.2f} USD\")\n",
        "        print(\"\\n📊 Valores calculados:\")\n",
        "        \n",
        "        for amount in sol_amounts:\n",
        "            value_usd = amount * sol_price\n",
        "            print(f\"   {amount} SOL = ${value_usd:.2f} USD\")\n",
        "\n",
        "await get_current_prince_and_calculate_values()"
      ]
    }
  ],
  "metadata": {
    "kernelspec": {
      "display_name": "DEXES-5nxnSWMP",
      "language": "python",
      "name": "python3"
    },
    "language_info": {
      "codemirror_mode": {
        "name": "ipython",
        "version": 3
      },
      "file_extension": ".py",
      "mimetype": "text/x-python",
      "name": "python",
      "nbconvert_exporter": "python",
      "pygments_lexer": "ipython3",
      "version": "3.13.3"
    }
  },
  "nbformat": 4,
  "nbformat_minor": 2
}
