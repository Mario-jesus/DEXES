{
 "cells": [
  {
   "cell_type": "markdown",
   "metadata": {},
   "source": [
    "# DEXES memecoins"
   ]
  },
  {
   "cell_type": "markdown",
   "metadata": {},
   "source": [
    "## Importaciones"
   ]
  },
  {
   "cell_type": "code",
   "execution_count": 1,
   "metadata": {},
   "outputs": [
    {
     "name": "stdout",
     "output_type": "stream",
     "text": [
      "🎯 Módulo PumpFun cargado\n",
      "🚀 Funcionalidades disponibles:\n",
      "   - Fetcher de precios directo de bonding curve\n",
      "   - Análisis de estado de curve\n",
      "   - Cálculo de progreso de bonding\n",
      "   - Precios en tiempo real desde Pump.fun\n",
      "✅ Módulo Jupiter DEX creado\n",
      "🚀 Funcionalidades disponibles:\n",
      "   - Swaps automáticos\n",
      "   - Búsqueda de arbitraje\n",
      "   - Monitoreo de precios\n",
      "   - Información de pools\n"
     ]
    }
   ],
   "source": [
    "from solana_manager import SolanaWalletManager, SolanaAccountInfo\n",
    "from pumpfun import PumpFunTrader, PumpFunPriceFetcher\n",
    "from dexscreener import DexScreenerPriceTracker, DexScreenerPortfolioMonitor"
   ]
  },
  {
   "cell_type": "markdown",
   "metadata": {},
   "source": [
    "## Configuraciones"
   ]
  },
  {
   "cell_type": "code",
   "execution_count": 2,
   "metadata": {},
   "outputs": [
    {
     "name": "stdout",
     "output_type": "stream",
     "text": [
      "🌐 Conectado a Solana mainnet-beta (RPC personalizado)\n",
      "📂 Wallet cargada desde wallets/mi_wallet_20250611_192531.json\n",
      "📍 Dirección: EJycPTHve5wgRkLyf6BzwjrSi4HUnqUkThYfwpegrGei\n",
      "🎯 PumpFun Trader inicializado\n",
      "📍 Wallet: EJycPTHve5wgRkLyf6BzwjrSi4HUnqUkThYfwpegrGei\n",
      "🌐 Red: mainnet-beta\n",
      "🎯 Pump.fun Price Fetcher inicializado\n",
      "🌐 Conectado a mainnet-beta\n",
      "🪐 Jupiter DEX inicializado en mainnet-beta\n",
      "📊 DexScreener Price Tracker inicializado\n",
      "🌐 Integrado con wallet en mainnet-beta\n",
      "🪐 Jupiter DEX inicializado en mainnet-beta\n",
      "📊 DexScreener Price Tracker inicializado\n",
      "🌐 Integrado con wallet en mainnet-beta\n",
      "📊 DexScreener Portfolio Monitor inicializado\n",
      "📍 Wallet: EJycPTHv...wpegrGei\n",
      "📂 No se encontraron datos previos del portfolio\n"
     ]
    }
   ],
   "source": [
    "NETWORK = \"mainnet-beta\"\n",
    "RPC_URL = \"https://api.mainnet-beta.solana.com\"\n",
    "WALLET_FILE = \"wallets/mi_wallet_20250611_192531.json\"\n",
    "SLIPPAGE = 15.0\n",
    "PRIORITY_FEE = 0.0001\n",
    "\n",
    "wallet_manager = SolanaWalletManager(network=NETWORK, rpc_url=RPC_URL)\n",
    "\n",
    "if not wallet_manager.load_wallet(WALLET_FILE):\n",
    "    raise Exception(\"Error al cargar la wallet\")\n",
    "\n",
    "account_info = SolanaAccountInfo(wallet_manager)\n",
    "trader = PumpFunTrader(wallet_manager)\n",
    "pump_fetcher = PumpFunPriceFetcher(wallet_manager)\n",
    "price_tracker = DexScreenerPriceTracker(wallet_manager)\n",
    "portfolio_monitor = DexScreenerPortfolioMonitor(wallet_manager)"
   ]
  },
  {
   "cell_type": "markdown",
   "metadata": {},
   "source": [
    "## Información"
   ]
  },
  {
   "cell_type": "markdown",
   "metadata": {},
   "source": [
    "### Balance"
   ]
  },
  {
   "cell_type": "code",
   "execution_count": 8,
   "metadata": {},
   "outputs": [
    {
     "name": "stdout",
     "output_type": "stream",
     "text": [
      "💰 BALANCE DETALLADO DE WALLET\n",
      "============================================================\n",
      "📊 Balance completo:\n",
      "   📍 Dirección: EJycPTHve5wgRkLyf6BzwjrSi4HUnqUkThYfwpegrGei\n",
      "   💰 Balance SOL: 0.076025 SOL\n",
      "   💵 Precio SOL: $145.53 USD\n",
      "   💸 Valor total: $11.06 USD\n",
      "🪙 SOL:\n",
      "   Balance: 0.076025 SOL\n",
      "   Precio: $145.53 USD\n",
      "   Valor: $11.06 USD\n",
      "\n",
      "🪙 Encontradas 2 cuentas de tokens:\n",
      "   1. Mint: 3o7iDNfa8WwL6fdXHk7r5mozqYE7pe33Ks9W3efYpump\n",
      "      Balance: 206323.648816 tokens (6 decimales)\n",
      "      Cuenta: RUea3HqtTeaLpzNzkFLjBHwTfo2DFi4dxoGThVWPZSS\n",
      "   2. Mint: 6F6jjd71nbjwUZNi93wpXimbyH12CLkeMNJ6X1brpump\n",
      "      Balance: 355949.906841 tokens (6 decimales)\n",
      "      Cuenta: HqQ1958oqeZZGbHGD1zoExUWhbZjN5zRGhKmdsNFZmQU\n",
      "🪙 TOKENS (2 encontrados):\n",
      "\n",
      "   1. Token: 3o7iDNfa8WwL6fdXHk7r5mozqYE7pe33Ks9W3efYpump\n",
      "      Balance: 206,323.648816 tokens\n",
      "      Decimales: 6\n",
      "💰 Obteniendo precio para: 3o7iDNfa...\n",
      "🔄 Intentando obtener precio desde Jupiter...\n",
      "💰 Precio SOL: $145.526850 (desde Jupiter)\n",
      "✅ Precio obtenido desde DexScreener tokens: $0.0000040830 USD\n",
      "      Nombre: B2-BOMBER\n",
      "      Símbolo: B2\n",
      "      Precio: $0.0000040830 USD\n",
      "      Valor USD: $0.842419\n",
      "      Valor SOL: 0.005789 SOL\n",
      "\n",
      "   2. Token: 6F6jjd71nbjwUZNi93wpXimbyH12CLkeMNJ6X1brpump\n",
      "      Balance: 355,949.906841 tokens\n",
      "      Decimales: 6\n",
      "💰 Obteniendo precio para: 6F6jjd71...\n",
      "🔄 Intentando obtener precio desde Jupiter...\n",
      "💰 Precio SOL: $145.526850 (desde Jupiter)\n",
      "✅ Precio obtenido desde DexScreener tokens: $0.0000040770 USD\n",
      "      Nombre: tamal\n",
      "      Símbolo: TML\n",
      "      Precio: $0.0000040770 USD\n",
      "      Valor USD: $1.451208\n",
      "      Valor SOL: 0.009972 SOL\n",
      "\n",
      "============================================================\n",
      "📊 RESUMEN TOTAL:\n",
      "   💰 SOL: 0.076025 SOL ($11.06 USD)\n",
      "   🪙 Tokens: $2.293627 USD\n",
      "   💎 TOTAL USD: $13.36\n",
      "   💎 TOTAL SOL: 0.091786 SOL\n",
      "============================================================\n"
     ]
    },
    {
     "data": {
      "text/plain": [
       "{'wallet_address': 'EJycPTHve5wgRkLyf6BzwjrSi4HUnqUkThYfwpegrGei',\n",
       " 'sol_balance': 0.076025468,\n",
       " 'sol_price_usd': 145.5268505,\n",
       " 'sol_value_usd': 11.063746915828533,\n",
       " 'tokens': [{'address': '3o7iDNfa8WwL6fdXHk7r5mozqYE7pe33Ks9W3efYpump',\n",
       "   'symbol': 'B2',\n",
       "   'name': 'B2-BOMBER',\n",
       "   'balance': 206323.648816,\n",
       "   'decimals': 6,\n",
       "   'price_usd': 4.083e-06,\n",
       "   'value_usd': 0.8424194581157279,\n",
       "   'value_sol': 0.005788756200119427},\n",
       "  {'address': '6F6jjd71nbjwUZNi93wpXimbyH12CLkeMNJ6X1brpump',\n",
       "   'symbol': 'TML',\n",
       "   'name': 'tamal',\n",
       "   'balance': 355949.906841,\n",
       "   'decimals': 6,\n",
       "   'price_usd': 4.077e-06,\n",
       "   'value_usd': 1.451207770190757,\n",
       "   'value_sol': 0.009972096319027788}],\n",
       " 'total_tokens_value_usd': 2.293627228306485,\n",
       " 'total_value_usd': 13.357374144135019,\n",
       " 'total_value_sol': 0.09178632051914722,\n",
       " 'timestamp': '2025-06-25T20:02:12.585012'}"
      ]
     },
     "execution_count": 8,
     "metadata": {},
     "output_type": "execute_result"
    }
   ],
   "source": [
    "portfolio_monitor.get_detailed_balance()"
   ]
  },
  {
   "cell_type": "markdown",
   "metadata": {},
   "source": [
    "# Trading"
   ]
  },
  {
   "cell_type": "code",
   "execution_count": 10,
   "metadata": {},
   "outputs": [],
   "source": [
    "TOKEN_MINT=\"6F6jjd71nbjwUZNi93wpXimbyH12CLkeMNJ6X1brpump\""
   ]
  },
  {
   "cell_type": "markdown",
   "metadata": {},
   "source": [
    "### Precio de token"
   ]
  },
  {
   "cell_type": "code",
   "execution_count": 11,
   "metadata": {},
   "outputs": [
    {
     "name": "stdout",
     "output_type": "stream",
     "text": [
      "💰 Obteniendo precio para: 6F6jjd71...\n",
      "🔄 Intentando obtener precio desde Jupiter...\n",
      "💰 Precio SOL: $145.720069 (desde Jupiter)\n",
      "✅ Precio obtenido desde DexScreener tokens: $0.0000040770 USD\n"
     ]
    }
   ],
   "source": [
    "result = price_tracker.get_token_price(TOKEN_MINT)\n",
    "\n",
    "if not result:\n",
    "    print(\"🔄 Reintentando con Pump.fun Price Fetcher\")\n",
    "    token_price = pump_fetcher.get_token_price(TOKEN_MINT)\n",
    "\n",
    "    if token_price:\n",
    "        print(f\"\\n🎉 PRECIO OBTENIDO EXITOSAMENTE!\")\n",
    "        print(f\"💰 Precio SOL: {token_price.price_sol:.12f}\")\n",
    "        print(f\"💵 Precio USD: ${token_price.price_usd:.12f}\")\n",
    "        print(f\"📊 Market Cap: ${token_price.market_cap_usd:,.2f}\")\n",
    "        print(f\"📈 Progreso Bonding: {token_price.bonding_progress:.2f}%\")\n",
    "        print(f\"⏰ Timestamp: {token_price.timestamp}\")\n",
    "    else:\n",
    "        print(\"❌ No se pudo obtener el precio\")"
   ]
  },
  {
   "cell_type": "markdown",
   "metadata": {},
   "source": [
    "### Comprar DEX"
   ]
  },
  {
   "cell_type": "code",
   "execution_count": 14,
   "metadata": {},
   "outputs": [
    {
     "name": "stdout",
     "output_type": "stream",
     "text": [
      "🛒 COMPRANDO 0.01 SOL de token 3o7iDNfa8WwL6fdXHk7r5mozqYE7pe33Ks9W3efYpump\n",
      "🔄 Creando transacción BUY para 3o7iDNfa8WwL6fdXHk7r5mozqYE7pe33Ks9W3efYpump\n",
      "💰 Cantidad: 0.01 SOL\n",
      "📊 Slippage: 15.0% | Fee: 0.0001 SOL\n",
      "✅ Transacción creada exitosamente\n",
      "📡 Enviando transacción...\n",
      "✅ Trade ejecutado exitosamente!\n",
      "🔗 Signature: 6cX9ihT2fSaS2JtU1csFZtkiZefaZkYAhYdQkFRbcx2P4qW3X6Cv5CXLxvDMo3Abs2wWbXMmJyKxYgHXDkSBNvE\n",
      "🌐 Explorer: https://solscan.io/tx/6cX9ihT2fSaS2JtU1csFZtkiZefaZkYAhYdQkFRbcx2P4qW3X6Cv5CXLxvDMo3Abs2wWbXMmJyKxYgHXDkSBNvE\n"
     ]
    }
   ],
   "source": [
    "signature = trader.buy_token(\n",
    "    token_mint=TOKEN_MINT,\n",
    "    sol_amount=0.01,\n",
    "    slippage=SLIPPAGE,\n",
    "    priority_fee=PRIORITY_FEE\n",
    ")"
   ]
  },
  {
   "cell_type": "markdown",
   "metadata": {},
   "source": [
    "### Vender DEX"
   ]
  },
  {
   "cell_type": "code",
   "execution_count": 6,
   "metadata": {},
   "outputs": [
    {
     "name": "stdout",
     "output_type": "stream",
     "text": [
      "💸 VENDIENDO 150000 tokens de 3o7iDNfa8WwL6fdXHk7r5mozqYE7pe33Ks9W3efYpump\n",
      "🔄 Creando transacción SELL para 3o7iDNfa8WwL6fdXHk7r5mozqYE7pe33Ks9W3efYpump\n",
      "💰 Cantidad: 150000 tokens\n",
      "📊 Slippage: 15.0% | Fee: 0.0001 SOL\n",
      "✅ Transacción creada exitosamente\n",
      "📡 Enviando transacción...\n",
      "✅ Trade ejecutado exitosamente!\n",
      "🔗 Signature: 33ZHHtasktYStY2YJM1bAQQTum8CrzQ2HkAZg52KegcoeB5u5xpi78MgLpiExCNeoMJd7ryHT8k7MPvoAAeXF398\n",
      "🌐 Explorer: https://solscan.io/tx/33ZHHtasktYStY2YJM1bAQQTum8CrzQ2HkAZg52KegcoeB5u5xpi78MgLpiExCNeoMJd7ryHT8k7MPvoAAeXF398\n"
     ]
    }
   ],
   "source": [
    "signature = trader.sell_token(\n",
    "    token_mint=TOKEN_MINT,\n",
    "    token_amount=150_000,\n",
    "    slippage=SLIPPAGE,\n",
    "    priority_fee=PRIORITY_FEE\n",
    ")"
   ]
  },
  {
   "cell_type": "markdown",
   "metadata": {},
   "source": [
    "### Vender todo el DEX"
   ]
  },
  {
   "cell_type": "code",
   "execution_count": 9,
   "metadata": {},
   "outputs": [
    {
     "name": "stdout",
     "output_type": "stream",
     "text": [
      "💸 VENDIENDO TODOS los tokens de 3o7iDNfa8WwL6fdXHk7r5mozqYE7pe33Ks9W3efYpump\n",
      "🔄 Creando transacción SELL para 3o7iDNfa8WwL6fdXHk7r5mozqYE7pe33Ks9W3efYpump\n",
      "💰 Cantidad: 100% tokens\n",
      "📊 Slippage: 15.0% | Fee: 0.0001 SOL\n",
      "✅ Transacción creada exitosamente\n",
      "📡 Enviando transacción...\n",
      "✅ Trade ejecutado exitosamente!\n",
      "🔗 Signature: 4axUcnKuwSw9NPXjsNJxiP8sWijVXQAjxe9oNGcVQszCksKdRDfcJY1g3FEwoQ7szuuXXjzHaL3ajDEK5REi2FKk\n",
      "🌐 Explorer: https://solscan.io/tx/4axUcnKuwSw9NPXjsNJxiP8sWijVXQAjxe9oNGcVQszCksKdRDfcJY1g3FEwoQ7szuuXXjzHaL3ajDEK5REi2FKk\n"
     ]
    }
   ],
   "source": [
    "signature = trader.sell_all_tokens(\n",
    "    token_mint=TOKEN_MINT,\n",
    "    slippage=SLIPPAGE,\n",
    "    priority_fee=PRIORITY_FEE\n",
    ")"
   ]
  }
 ],
 "metadata": {
  "kernelspec": {
   "display_name": "base",
   "language": "python",
   "name": "python3"
  },
  "language_info": {
   "codemirror_mode": {
    "name": "ipython",
    "version": 3
   },
   "file_extension": ".py",
   "mimetype": "text/x-python",
   "name": "python",
   "nbconvert_exporter": "python",
   "pygments_lexer": "ipython3",
   "version": "3.12.7"
  }
 },
 "nbformat": 4,
 "nbformat_minor": 2
}
