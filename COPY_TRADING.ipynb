{
 "cells": [
  {
   "cell_type": "markdown",
   "id": "5bebbafa",
   "metadata": {},
   "source": [
    "# # 🚀 Sistema de copy trading"
   ]
  },
  {
   "cell_type": "code",
   "execution_count": null,
   "id": "000c131d",
   "metadata": {},
   "outputs": [],
   "source": [
    "import asyncio\n",
    "import os\n",
    "\n",
    "from copy_trading import (\n",
    "    CopyTrading,\n",
    "    CopyTradingConfig\n",
    ")\n",
    "\n",
    "# Archivo de configuración\n",
    "file_path = os.getenv(\"CONFIG_FILE_PATH\", \"copy_trading/configs_in_json/config.json\")"
   ]
  },
  {
   "cell_type": "code",
   "execution_count": null,
   "id": "a1f18a12",
   "metadata": {},
   "outputs": [],
   "source": [
    "async def main():\n",
    "    \"\"\"Función principal para ejecutar el sistema con notificaciones.\"\"\"\n",
    "    # 1. Cargar la configuración del bot\n",
    "\n",
    "    config = CopyTradingConfig.load_from_file(file_path)\n",
    "\n",
    "    # 2. Crear e iniciar el sistema\n",
    "    system = CopyTrading(config=config)\n",
    "\n",
    "    try:\n",
    "        async with system:\n",
    "            print(f\"\\n✅ Sistema iniciado con notificaciones\")\n",
    "            print(f\"🔄 Modo: {'DRY RUN' if config.dry_run else 'LIVE'}\")\n",
    "            print(f\"👥 Siguiendo {len(config.traders)} traders\")\n",
    "            print(\"\\nPresiona Ctrl+C para detener.\")\n",
    "\n",
    "            # Enviar notificación de prueba\n",
    "            if system.notification_manager:\n",
    "                status_msg = (\n",
    "                    f\"Sistema iniciado correctamente\\n\"\n",
    "                    f\"- Modo: {'🔄 DRY RUN' if config.dry_run else '🚀 LIVE'}\\n\"\n",
    "                    f\"- Traders: 👥 {len(config.traders)}\"\n",
    "                )\n",
    "                await system.notification_manager.notify_system(status_msg, \"success\")\n",
    "\n",
    "            # Bucle principal - mostrar métricas cada 5 minutos\n",
    "            while system.is_running:\n",
    "                await asyncio.sleep(300)  # 5 minutos\n",
    "\n",
    "                try:\n",
    "                    metrics = await system.get_metrics()\n",
    "\n",
    "                    print(\"\\n--- Métricas del Sistema ---\")\n",
    "                    print(f\"  - Tiempo activo: {metrics['system_metrics']['uptime_seconds']:.0f}s\")\n",
    "                    print(f\"  - Trades recibidos: {metrics['callback_stats']['trades_received']}\")\n",
    "                    print(f\"  - Trades validados: {metrics['callback_stats']['trades_validated']}\")\n",
    "                    print(f\"  - Trades en cola: {metrics['queue_stats']['pending_count']}\")\n",
    "                    print(f\"  - Trades ejecutados: {metrics['system_metrics']['trades_executed']}\")\n",
    "                    print(f\"  - Volumen total: {metrics['system_metrics']['total_volume_sol']:.6f} SOL\")\n",
    "                    print(f\"  - Balance actual: {metrics['wallet_balance']:.6f} SOL\")\n",
    "                    print(\"--------------------------\\n\")\n",
    "\n",
    "                    # Enviar resumen por Telegram cada hora\n",
    "                    if system.notification_manager and metrics['system_metrics']['uptime_seconds'] % 3600 < 300:\n",
    "                        metrics_msg = (\n",
    "                            f\"Resumen horario del sistema\\n\"\n",
    "                            f\"- Tiempo activo: ⏱️ {metrics['system_metrics']['uptime_seconds']/3600:.1f}h\\n\"\n",
    "                            f\"- Trades recibidos: 📥 {metrics['callback_stats']['trades_received']}\\n\"\n",
    "                            f\"- Trades ejecutados: ✅ {metrics['system_metrics']['trades_executed']}\\n\"\n",
    "                            f\"- Volumen: 💰 {metrics['system_metrics']['total_volume_sol']:.6f} SOL\\n\"\n",
    "                            f\"- Balance: 💎 {metrics['wallet_balance']:.6f} SOL\"\n",
    "                        )\n",
    "                        await system.notification_manager.notify_system(metrics_msg, \"info\")\n",
    "\n",
    "                except Exception as e:\n",
    "                    print(f\"Error obteniendo métricas: {e}\")\n",
    "\n",
    "    except KeyboardInterrupt:\n",
    "        print(\"\\nInterrupción del usuario detectada.\")\n",
    "    except Exception as e:\n",
    "        print(f\"Error en el sistema: {e}\")\n",
    "\n",
    "        # Notificar error crítico\n",
    "        if system.notification_manager:\n",
    "            error_msg = (\n",
    "                f\"Error crítico en el sistema:\\n\"\n",
    "                f\"- Tipo: ⚠️ {type(e).__name__}\\n\"\n",
    "                f\"- Mensaje: 🔥 {str(e)}\"\n",
    "            )\n",
    "            await system.notification_manager.notify_system(error_msg, \"error\")\n",
    "\n",
    "    print(\"🏁 Sistema detenido.\")"
   ]
  },
  {
   "cell_type": "code",
   "execution_count": null,
   "id": "897c03d8",
   "metadata": {},
   "outputs": [],
   "source": [
    "try:\n",
    "    await main()\n",
    "except asyncio.CancelledError:\n",
    "    print(\"Programa cancelado por el usuario\")"
   ]
  }
 ],
 "metadata": {
  "kernelspec": {
   "display_name": "DEXES-iMODMhnj",
   "language": "python",
   "name": "python3"
  },
  "language_info": {
   "codemirror_mode": {
    "name": "ipython",
    "version": 3
   },
   "file_extension": ".py",
   "mimetype": "text/x-python",
   "name": "python",
   "nbconvert_exporter": "python",
   "pygments_lexer": "ipython3",
   "version": "3.13.5"
  }
 },
 "nbformat": 4,
 "nbformat_minor": 5
}
