{
 "cells": [
  {
   "cell_type": "markdown",
   "metadata": {},
   "source": [
    "# Pumpfun Tools"
   ]
  },
  {
   "cell_type": "markdown",
   "metadata": {},
   "source": [
    "## Herramientas de PumpFun Price Monitor\n",
    "\n",
    "Este notebook contiene herramientas especializadas para monitorear precios en tiempo real de tokens de Pump.fun usando WebSocket."
   ]
  },
  {
   "cell_type": "markdown",
   "metadata": {},
   "source": [
    "### Importaciones y Configuración"
   ]
  },
  {
   "cell_type": "code",
   "execution_count": null,
   "metadata": {},
   "outputs": [],
   "source": [
    "from solana_manager import SolanaWalletManager, SolanaAccountInfo\n",
    "from pumpfun import PumpFunPriceMonitor, PumpFunPriceFetcher, PumpFunTrader\n",
    "import asyncio\n",
    "import time\n",
    "from datetime import datetime"
   ]
  },
  {
   "cell_type": "code",
   "execution_count": null,
   "metadata": {},
   "outputs": [],
   "source": [
    "# Configuración básica\n",
    "NETWORK = \"mainnet-beta\"\n",
    "RPC_URL = \"https://api.mainnet-beta.solana.com\"\n",
    "WALLET_FILE = \"wallets/wallet_pumpfun.json\"\n",
    "\n",
    "# Inicializar componentes\n",
    "wallet_manager = SolanaWalletManager(network=NETWORK, rpc_url=RPC_URL)\n",
    "if not wallet_manager.load_wallet(WALLET_FILE):\n",
    "    raise Exception(\"Error al cargar la wallet\")\n",
    "\n",
    "# Inicializar herramientas de PumpFun\n",
    "price_monitor = PumpFunPriceMonitor()\n",
    "price_fetcher = PumpFunPriceFetcher(wallet_manager)\n",
    "trader = PumpFunTrader(wallet_manager)\n"
   ]
  },
  {
   "cell_type": "markdown",
   "metadata": {},
   "source": [
    "### 1. Monitor de Token Específico (SIN ruido)\n",
    "\n",
    "Monitorea ÚNICAMENTE el token que especifiques, sin mostrar otros eventos."
   ]
  },
  {
   "cell_type": "code",
   "execution_count": null,
   "metadata": {},
   "outputs": [],
   "source": [
    "# Configurar token para monitorear\n",
    "TOKEN_TO_MONITOR = \"4yyuDzaxZdXbCsMeLLbHmoVYJoquq6xo1LYfBaZrpump\"  # Ejemplo: token TML\n",
    "\n",
    "# Configurar alertas de precio (opcional)\n",
    "price_alerts = {\n",
    "    'above': 0.000005,  # Alerta si precio sube por encima de este valor\n",
    "    'below': 0.000003   # Alerta si precio baja por debajo de este valor\n",
    "}\n",
    "\n",
    "print(f\"🎯 Token a monitorear: {TOKEN_TO_MONITOR}\")\n",
    "print(f\"📊 Alertas configuradas:\")\n",
    "print(f\"   ⬆️ Alerta HIGH: {price_alerts['above']:.10f} SOL\")\n",
    "print(f\"   ⬇️ Alerta LOW: {price_alerts['below']:.10f} SOL\")\n"
   ]
  },
  {
   "cell_type": "code",
   "execution_count": null,
   "metadata": {},
   "outputs": [],
   "source": [
    "# 🎯 NUEVO MÉTODO CORREGIDO: Solo monitorea TU token (SIN otros eventos)\n",
    "print(\"🔄 Usando método corregido que NO muestra otros tokens...\")\n",
    "\n",
    "# Usar el nuevo método que crea una conexión específica\n",
    "stats_clean = price_monitor.monitor_single_token_only(\n",
    "    token_address=TOKEN_TO_MONITOR,\n",
    "    duration_minutes=1,  # 1 minuto para prueba\n",
    "    show_trades=True,\n",
    "    price_alerts=price_alerts\n",
    ")\n",
    "\n",
    "print(f\"\\n✅ Monitoreo limpio completado!\")\n",
    "print(f\"📈 Trades de TU token: {stats_clean['trade_count']}\")\n",
    "print(f\"💰 Volumen de TU token: {stats_clean['total_volume']:.6f} SOL\")\n"
   ]
  },
  {
   "cell_type": "markdown",
   "metadata": {},
   "source": [
    "### 2. Monitor de Nuevos Tokens\n",
    "\n",
    "Detecta nuevos tokens creados en Pump.fun en tiempo real."
   ]
  },
  {
   "cell_type": "code",
   "execution_count": null,
   "metadata": {},
   "outputs": [],
   "source": [
    "# Monitorear nuevos tokens por 3 minutos\n",
    "new_tokens = price_monitor.monitor_new_tokens(\n",
    "    duration_minutes=1,\n",
    "    auto_subscribe=True,  # Auto-suscribirse a trades de nuevos tokens\n",
    "    max_tokens=3         # Máximo 3 tokens para no saturar\n",
    ")\n",
    "\n",
    "print(f\"\\n🆕 Nuevos tokens detectados: {len(new_tokens)}\")\n",
    "for i, token in enumerate(new_tokens, 1):\n",
    "    print(f\"{i}. {token['mint'][:8]}...\")\n",
    "    print(f\"   💰 Market Cap: {token['market_cap']:.2f} SOL\")\n",
    "    print(f\"   👤 Creador: {token['creator']}...\")\n",
    "    print(f\"   ⏰ Hora: {token['timestamp'].strftime('%H:%M:%S')}\")\n"
   ]
  },
  {
   "cell_type": "markdown",
   "metadata": {},
   "source": [
    "### 3. Análisis de Bonding Curve\n",
    "\n",
    "Obtiene información detallada de la bonding curve de un token."
   ]
  },
  {
   "cell_type": "code",
   "execution_count": null,
   "metadata": {},
   "outputs": [],
   "source": [
    "# Analizar bonding curve de un token\n",
    "token_price = price_fetcher.get_token_price(TOKEN_TO_MONITOR)\n",
    "\n",
    "if token_price:\n",
    "    print(\"📊 ANÁLISIS DE BONDING CURVE\")\n",
    "    print(\"=\" * 50)\n",
    "    print(f\"🎯 Token: {token_price.token_address}\")\n",
    "    print(f\"💰 Precio SOL: {token_price.price_sol:.12f}\")\n",
    "    print(f\"💵 Precio USD: ${token_price.price_usd:.12f}\")\n",
    "    print(f\"📈 Market Cap: ${token_price.market_cap_usd:,.2f}\")\n",
    "    print(f\"📊 Progreso Bonding: {token_price.bonding_progress:.2f}%\")\n",
    "    print(f\"⏰ Timestamp: {token_price.timestamp}\")\n",
    "    \n",
    "    # Detalles de la curve\n",
    "    curve = token_price.curve_state\n",
    "    print(f\"\\n🔍 ESTADO DE LA CURVE:\")\n",
    "    print(f\"   🪙 Reservas virtuales token: {curve.virtual_token_reserves:,}\")\n",
    "    print(f\"   💎 Reservas virtuales SOL: {curve.virtual_sol_reserves:,}\")\n",
    "    print(f\"   🪙 Reservas reales token: {curve.real_token_reserves:,}\")\n",
    "    print(f\"   💎 Reservas reales SOL: {curve.real_sol_reserves:,}\")\n",
    "    print(f\"   📊 Supply total: {curve.token_total_supply:,}\")\n",
    "    print(f\"   ✅ Completa: {'Sí' if curve.complete else 'No'}\")\n",
    "else:\n",
    "    print(\"❌ No se pudo obtener información del token\")\n"
   ]
  },
  {
   "cell_type": "markdown",
   "metadata": {},
   "source": [
    "### 4. Limpieza y Cierre\n",
    "\n",
    "Funciones para limpiar conexiones y cerrar el monitor correctamente."
   ]
  },
  {
   "cell_type": "code",
   "execution_count": null,
   "metadata": {},
   "outputs": [],
   "source": [
    "# Función para limpiar y cerrar conexiones\n",
    "def cleanup_monitor():\n",
    "    \"\"\"\n",
    "    Limpia y cierra todas las conexiones del monitor\n",
    "    \"\"\"\n",
    "    print(\"🧹 Limpiando conexiones...\")\n",
    "    \n",
    "    try:\n",
    "        if price_monitor.is_running:\n",
    "            price_monitor.stop_monitoring()\n",
    "            print(\"✅ Monitor detenido\")\n",
    "        \n",
    "        # Limpiar suscripciones\n",
    "        price_monitor.subscribed_tokens.clear()\n",
    "        price_monitor.subscribed_accounts.clear()\n",
    "        \n",
    "        print(\"✅ Suscripciones limpiadas\")\n",
    "        print(\"🔌 Monitor listo para nueva sesión\")\n",
    "        \n",
    "    except Exception as e:\n",
    "        print(f\"⚠️ Error durante limpieza: {e}\")\n",
    "\n",
    "# Ejecutar limpieza al final (descomenta si necesitas)\n",
    "cleanup_monitor()\n"
   ]
  }
 ],
 "metadata": {
  "kernelspec": {
   "display_name": "DEXES-5nxnSWMP",
   "language": "python",
   "name": "python3"
  },
  "language_info": {
   "codemirror_mode": {
    "name": "ipython",
    "version": 3
   },
   "file_extension": ".py",
   "mimetype": "text/x-python",
   "name": "python",
   "nbconvert_exporter": "python",
   "pygments_lexer": "ipython3",
   "version": "3.13.3"
  }
 },
 "nbformat": 4,
 "nbformat_minor": 2
}
