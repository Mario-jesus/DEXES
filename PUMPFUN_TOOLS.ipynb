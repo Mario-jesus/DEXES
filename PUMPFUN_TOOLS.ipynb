{
 "cells": [
  {
   "cell_type": "markdown",
   "id": "d4039f45",
   "metadata": {},
   "source": [
    "# Pump.fun Tools"
   ]
  },
  {
   "cell_type": "code",
   "execution_count": null,
   "id": "daf95ab4",
   "metadata": {},
   "outputs": [],
   "source": [
    "from pumpfun import PumpFunWalletManager"
   ]
  },
  {
   "cell_type": "code",
   "execution_count": null,
   "id": "a971d765",
   "metadata": {},
   "outputs": [],
   "source": [
    "\"\"\" async with PumpFunWalletManager() as wallet_manager:\n",
    "    wallet_data = await wallet_manager.create_multiple_wallets(5, \"Wallet\") \"\"\""
   ]
  },
  {
   "cell_type": "code",
   "execution_count": null,
   "id": "8f33c723",
   "metadata": {},
   "outputs": [],
   "source": [
    "from pumpfun.pumpfun_trade_analyzer import PumpFunTradeAnalyzer\n",
    "from icecream import ic"
   ]
  },
  {
   "cell_type": "code",
   "execution_count": null,
   "id": "5f733441",
   "metadata": {},
   "outputs": [],
   "source": [
    "async with PumpFunTradeAnalyzer() as parser:\n",
    "    trade_info = await parser.analyze_transaction_by_signature(\"2mrPeUBHWsRJdEChNTUQWyQLxAPHMHGuwNGMDhFMecL5bfmfabCLGqBcEH6iVuMKRzdYhbsgVusFZC5aDB4xjYZH\")\n",
    "    if trade_info:\n",
    "        print(trade_info)  # Muestra toda la información detallada\n",
    "        # O obtén como diccionario\n",
    "        trade_dict = trade_info.to_dict()"
   ]
  }
 ],
 "metadata": {
  "kernelspec": {
   "display_name": "DEXES-5nxnSWMP",
   "language": "python",
   "name": "python3"
  },
  "language_info": {
   "codemirror_mode": {
    "name": "ipython",
    "version": 3
   },
   "file_extension": ".py",
   "mimetype": "text/x-python",
   "name": "python",
   "nbconvert_exporter": "python",
   "pygments_lexer": "ipython3",
   "version": "3.13.3"
  }
 },
 "nbformat": 4,
 "nbformat_minor": 5
}
