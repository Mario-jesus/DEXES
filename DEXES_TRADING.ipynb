{
 "cells": [
  {
   "cell_type": "markdown",
   "metadata": {},
   "source": [
    "# DEXES memecoins"
   ]
  },
  {
   "cell_type": "markdown",
   "metadata": {},
   "source": [
    "## Importaciones"
   ]
  },
  {
   "cell_type": "code",
   "execution_count": null,
   "metadata": {},
   "outputs": [],
   "source": [
    "from solana_manager import SolanaWalletManager, SolanaAccountInfo\n",
    "from pumpfun import PumpFunTrader, PumpFunPriceFetcher\n",
    "from dexscreener import DexScreenerPriceTracker, DexScreenerPortfolioMonitor"
   ]
  },
  {
   "cell_type": "markdown",
   "metadata": {},
   "source": [
    "## Configuraciones"
   ]
  },
  {
   "cell_type": "code",
   "execution_count": null,
   "metadata": {},
   "outputs": [],
   "source": [
    "NETWORK = \"mainnet-beta\"\n",
    "RPC_URL = \"https://api.mainnet-beta.solana.com\"\n",
    "WALLET_FILE = \"wallets/wallet_pumpfun.json\"\n",
    "SLIPPAGE = 15.0\n",
    "PRIORITY_FEE = 0.0001\n",
    "\n",
    "wallet_manager = SolanaWalletManager(network=NETWORK, rpc_url=RPC_URL)\n",
    "\n",
    "if not wallet_manager.load_wallet(WALLET_FILE):\n",
    "    raise Exception(\"Error al cargar la wallet\")\n",
    "\n",
    "account_info = SolanaAccountInfo(wallet_manager)\n",
    "trader = PumpFunTrader(wallet_manager)\n",
    "pump_fetcher = PumpFunPriceFetcher(wallet_manager)\n",
    "price_tracker = DexScreenerPriceTracker(wallet_manager)\n",
    "portfolio_monitor = DexScreenerPortfolioMonitor(wallet_manager)"
   ]
  },
  {
   "cell_type": "markdown",
   "metadata": {},
   "source": [
    "## Información"
   ]
  },
  {
   "cell_type": "markdown",
   "metadata": {},
   "source": [
    "### Balance"
   ]
  },
  {
   "cell_type": "code",
   "execution_count": null,
   "metadata": {},
   "outputs": [],
   "source": [
    "portfolio_monitor.get_detailed_balance()"
   ]
  },
  {
   "cell_type": "markdown",
   "metadata": {},
   "source": [
    "# Trading"
   ]
  },
  {
   "cell_type": "code",
   "execution_count": 43,
   "metadata": {},
   "outputs": [],
   "source": [
    "TOKEN_MINT=\"3boW1URxcAHB2UKHKxNgGzMGKeJRqtQJ3zR3rew4pump\""
   ]
  },
  {
   "cell_type": "markdown",
   "metadata": {},
   "source": [
    "### Precio de token"
   ]
  },
  {
   "cell_type": "code",
   "execution_count": null,
   "metadata": {},
   "outputs": [],
   "source": [
    "result = price_tracker.get_token_price(TOKEN_MINT)\n",
    "\n",
    "if not result:\n",
    "    print(\"🔄 Reintentando con Pump.fun Price Fetcher\")\n",
    "    token_price = pump_fetcher.get_token_price(TOKEN_MINT)\n",
    "\n",
    "    if token_price:\n",
    "        print(f\"\\n🎉 PRECIO OBTENIDO EXITOSAMENTE!\")\n",
    "        print(f\"💰 Precio SOL: {token_price.price_sol:.12f}\")\n",
    "        print(f\"💵 Precio USD: ${token_price.price_usd:.12f}\")\n",
    "        print(f\"📊 Market Cap: ${token_price.market_cap_usd:,.2f}\")\n",
    "        print(f\"📈 Progreso Bonding: {token_price.bonding_progress:.2f}%\")\n",
    "        print(f\"⏰ Timestamp: {token_price.timestamp}\")\n",
    "    else:\n",
    "        print(\"❌ No se pudo obtener el precio\")"
   ]
  },
  {
   "cell_type": "markdown",
   "metadata": {},
   "source": [
    "### Comprar DEX"
   ]
  },
  {
   "cell_type": "code",
   "execution_count": null,
   "metadata": {},
   "outputs": [],
   "source": [
    "signature = trader.buy_token(\n",
    "    token_mint=TOKEN_MINT,\n",
    "    sol_amount=0.001,\n",
    "    slippage=SLIPPAGE,\n",
    "    priority_fee=PRIORITY_FEE\n",
    ")"
   ]
  },
  {
   "cell_type": "markdown",
   "metadata": {},
   "source": [
    "### Vender DEX"
   ]
  },
  {
   "cell_type": "code",
   "execution_count": null,
   "metadata": {},
   "outputs": [],
   "source": [
    "signature = trader.sell_token(\n",
    "    token_mint=TOKEN_MINT,\n",
    "    token_amount=500_000,\n",
    "    slippage=SLIPPAGE,\n",
    "    priority_fee=PRIORITY_FEE\n",
    ")"
   ]
  },
  {
   "cell_type": "markdown",
   "metadata": {},
   "source": [
    "### Vender todo el DEX"
   ]
  },
  {
   "cell_type": "code",
   "execution_count": null,
   "metadata": {},
   "outputs": [],
   "source": [
    "signature = trader.sell_all_tokens(\n",
    "    token_mint=TOKEN_MINT,\n",
    "    slippage=SLIPPAGE,\n",
    "    priority_fee=PRIORITY_FEE\n",
    ")"
   ]
  }
 ],
 "metadata": {
  "kernelspec": {
   "display_name": "DEXES-5nxnSWMP",
   "language": "python",
   "name": "python3"
  },
  "language_info": {
   "codemirror_mode": {
    "name": "ipython",
    "version": 3
   },
   "file_extension": ".py",
   "mimetype": "text/x-python",
   "name": "python",
   "nbconvert_exporter": "python",
   "pygments_lexer": "ipython3",
   "version": "3.13.3"
  }
 },
 "nbformat": 4,
 "nbformat_minor": 2
}
