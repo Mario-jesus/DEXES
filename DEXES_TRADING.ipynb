{
 "cells": [
  {
   "cell_type": "markdown",
   "metadata": {},
   "source": [
    "# DEXES memecoins"
   ]
  },
  {
   "cell_type": "markdown",
   "metadata": {},
   "source": [
    "## Importaciones"
   ]
  },
  {
   "cell_type": "code",
   "execution_count": 1,
   "metadata": {},
   "outputs": [
    {
     "name": "stdout",
     "output_type": "stream",
     "text": [
      "🎯 Módulo PumpFun cargado\n",
      "🚀 Funcionalidades disponibles:\n",
      "   - Fetcher de precios directo de bonding curve\n",
      "   - Análisis de estado de curve\n",
      "   - Cálculo de progreso de bonding\n",
      "   - Precios en tiempo real desde Pump.fun\n",
      "   - Cliente API centralizado con WebSocket y HTTP\n",
      "   - Trading con APIs Lightning y Local\n",
      "   - Gestión de wallets Lightning\n",
      "   - Creación de tokens\n",
      "   - Soporte para API key en WebSocket (PumpSwap data)\n",
      "   - Parser asíncrono de transacciones de Pump.fun\n",
      "   - Análisis de actividad de traders\n",
      "   - Patrón Singleton y Context Manager\n"
     ]
    }
   ],
   "source": [
    "from solders.keypair import Keypair\n",
    "from typing import Literal, Union\n",
    "\n",
    "from solana_manager import SolanaAccountInfo, SolanaWalletManager\n",
    "from pumpfun import PumpFunTransactions, PumpFunPriceFetcher\n",
    "from dexscreener import DexScreenerPriceTracker, DexScreenerPortfolioMonitor"
   ]
  },
  {
   "cell_type": "markdown",
   "metadata": {},
   "source": [
    "## Configuraciones"
   ]
  },
  {
   "cell_type": "code",
   "execution_count": 2,
   "metadata": {},
   "outputs": [
    {
     "name": "stdout",
     "output_type": "stream",
     "text": [
      "🌐 Conectado a Solana mainnet-beta (RPC: https://api.mainnet-beta.solana.com)\n",
      "📂 Wallet cargada desde wallets/wallet_pumpfun.json\n",
      "🔌 Conexión a Solana cerrada.\n",
      "🌐 PumpFun API Client inicializado\n",
      "   WebSocket: ❌ wss://pumpportal.fun/api/data\n",
      "   HTTP: ✅ https://pumpportal.fun/api\n",
      "   API Key: ❌ No proporcionada\n",
      "🎯 Pump.fun Price Fetcher inicializado\n",
      "🌐 Configurado para conectar a https://api.mainnet-beta.solana.com\n",
      "📊 DexScreener Price Tracker inicializado (Async)\n",
      "📊 DexScreener Portfolio Monitor inicializado (Async)\n",
      "📍 Wallet: GMN2f6Ps...dfBtnAtz\n"
     ]
    },
    {
     "name": "stdout",
     "output_type": "stream",
     "text": [
      "📂 No se encontraron datos previos del portfolio\n"
     ]
    }
   ],
   "source": [
    "NETWORK = \"mainnet-beta\"\n",
    "RPC_URL = \"https://api.mainnet-beta.solana.com\"\n",
    "WALLET_FILE = \"wallets/wallet_pumpfun.json\"\n",
    "SLIPPAGE = 15.0\n",
    "PRIORITY_FEE = 0.0001\n",
    "\n",
    "wallet_data = None\n",
    "async with SolanaWalletManager(network=NETWORK) as solana_manager:\n",
    "    wallet_data = await solana_manager.load_wallet_from_file(filename=WALLET_FILE)\n",
    "    wallet_data[\"key_pair\"] = Keypair().from_base58_string(wallet_data[\"private_key\"])\n",
    "\n",
    "account_info = SolanaAccountInfo(network=NETWORK)\n",
    "transactions = PumpFunTransactions()\n",
    "pump_fetcher = PumpFunPriceFetcher()\n",
    "price_tracker = DexScreenerPriceTracker()\n",
    "\n",
    "if not wallet_data:\n",
    "    raise Exception(\"Wallet not found\")\n",
    "\n",
    "portfolio_monitor = DexScreenerPortfolioMonitor(wallet_data.get(\"public_key\"), price_tracker)"
   ]
  },
  {
   "cell_type": "markdown",
   "metadata": {},
   "source": [
    "## Información"
   ]
  },
  {
   "cell_type": "markdown",
   "metadata": {},
   "source": [
    "### Balance"
   ]
  },
  {
   "cell_type": "code",
   "execution_count": 3,
   "metadata": {},
   "outputs": [
    {
     "name": "stdout",
     "output_type": "stream",
     "text": [
      "💰 BALANCE DETALLADO DE WALLET\n",
      "============================================================\n",
      "🪙 SOL:\n",
      "   Balance: 0.016694 SOL\n",
      "   Precio: $164.48 USD\n",
      "   Valor: $2.75 USD\n",
      "\n",
      "🪙 TOKENS (4 encontrados):\n",
      "\n",
      "============================================================\n",
      "📊 RESUMEN TOTAL:\n",
      "   💰 SOL: 0.016694 SOL ($2.75 USD)\n",
      "   🪙 Tokens: $0.000000 USD\n",
      "   💎 TOTAL USD: $2.75\n",
      "   💎 TOTAL SOL: 0.016694 SOL\n",
      "============================================================\n",
      "🔒 DexScreener Portfolio Monitor cerrado\n"
     ]
    }
   ],
   "source": [
    "async with portfolio_monitor:\n",
    "    await portfolio_monitor.get_detailed_balance()\n"
   ]
  },
  {
   "cell_type": "markdown",
   "metadata": {},
   "source": [
    "# Trading"
   ]
  },
  {
   "cell_type": "code",
   "execution_count": 4,
   "metadata": {},
   "outputs": [],
   "source": [
    "TOKEN_MINT=\"6F6jjd71nbjwUZNi93wpXimbyH12CLkeMNJ6X1brpump\""
   ]
  },
  {
   "cell_type": "markdown",
   "metadata": {},
   "source": [
    "### Precio de token"
   ]
  },
  {
   "cell_type": "code",
   "execution_count": 5,
   "metadata": {},
   "outputs": [
    {
     "name": "stdout",
     "output_type": "stream",
     "text": [
      "💰 Obteniendo precio para: 6F6jjd71...\n",
      "✅ Precio obtenido desde DexScreener tokens: $0.0000044260 USD\n",
      "🔒 DexScreener Price Tracker cerrado\n"
     ]
    }
   ],
   "source": [
    "result = None\n",
    "async with price_tracker:\n",
    "    result = await price_tracker.get_token_price(TOKEN_MINT)\n",
    "\n",
    "if not result:\n",
    "    print(\"🔄 Reintentando con Pump.fun Price Fetcher\")\n",
    "    token_price = None\n",
    "    async with pump_fetcher:\n",
    "        token_price = await pump_fetcher.get_token_price(TOKEN_MINT)\n",
    "\n",
    "    if token_price:\n",
    "        print(f\"\\n🎉 PRECIO OBTENIDO EXITOSAMENTE!\")\n",
    "        print(f\"💰 Precio SOL: {token_price.price_sol:.12f}\")\n",
    "        print(f\"💵 Precio USD: ${token_price.price_usd:.12f}\")\n",
    "        print(f\"📊 Market Cap: ${token_price.market_cap_usd:,.2f}\")\n",
    "        print(f\"📈 Progreso Bonding: {token_price.bonding_progress:.2f}%\")\n",
    "        print(f\"⏰ Timestamp: {token_price.timestamp}\")\n",
    "    else:\n",
    "        print(\"❌ No se pudo obtener el precio\")"
   ]
  },
  {
   "cell_type": "markdown",
   "metadata": {},
   "source": [
    "### Local trade"
   ]
  },
  {
   "cell_type": "code",
   "execution_count": 24,
   "metadata": {},
   "outputs": [
    {
     "name": "stdout",
     "output_type": "stream",
     "text": [
      "🔌 Iniciando sesión de transacciones PumpFun...\n",
      "✅ Sesión HTTP inicializada\n",
      "🛠️ Creando transacción local: sell 1e-05 de 6F6jjd71nbjwUZNi93wpXimbyH12CLkeMNJ6X1brpump\n",
      "📄 Transacción recibida, firmando localmente...\n",
      "🖋️ Transacción firmada, enviando a https://api.mainnet-beta.solana.com/...\n",
      "✅ Transacción enviada. Firma: 66ioQqm668um5riAN3vdRmMHVx5znaVypCCb2iijkCtfnJKcPAfkV2xESwNnf7uhJp2PLZpTRa7admWUZfrpVHLG\n",
      "🔗 Transacción enviada exitosamente. Puedes verla en Solscan: https://solscan.io/tx/66ioQqm668um5riAN3vdRmMHVx5znaVypCCb2iijkCtfnJKcPAfkV2xESwNnf7uhJp2PLZpTRa7admWUZfrpVHLG?cluster=mainnet-beta\n",
      "🔌 Cerrando sesión de transacciones PumpFun...\n",
      "🔌 Sesión HTTP cerrada\n",
      "✅ Sesión de transacciones cerrada correctamente\n"
     ]
    }
   ],
   "source": [
    "ACTION: Literal[\"buy\", \"sell\"] = \"sell\"\n",
    "AMOUNT: Union[float, str] = 0.00001\n",
    "DENOMINATED_IN_SOL: bool = True\n",
    "SLIPPAGE: float = 15.0\n",
    "PRIORITY_FEE: float = 0.00005\n",
    "\n",
    "async with transactions:\n",
    "    signature = await transactions.create_and_send_local_trade(\n",
    "        keypair=wallet_data.get(\"key_pair\"),\n",
    "        action=ACTION,\n",
    "        mint=TOKEN_MINT,\n",
    "        amount=AMOUNT,\n",
    "        denominated_in_sol=DENOMINATED_IN_SOL,\n",
    "        slippage=SLIPPAGE,\n",
    "        priority_fee=PRIORITY_FEE\n",
    "    )\n",
    "    print(f\"🔗 Transacción enviada exitosamente. Puedes verla en Solscan: https://solscan.io/tx/{signature}?cluster=mainnet-beta\")"
   ]
  }
 ],
 "metadata": {
  "kernelspec": {
   "display_name": "DEXES-5nxnSWMP",
   "language": "python",
   "name": "python3"
  },
  "language_info": {
   "codemirror_mode": {
    "name": "ipython",
    "version": 3
   },
   "file_extension": ".py",
   "mimetype": "text/x-python",
   "name": "python",
   "nbconvert_exporter": "python",
   "pygments_lexer": "ipython3",
   "version": "3.13.3"
  }
 },
 "nbformat": 4,
 "nbformat_minor": 2
}
