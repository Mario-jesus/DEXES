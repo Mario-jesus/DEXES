{
 "cells": [
  {
   "cell_type": "markdown",
   "id": "d4039f45",
   "metadata": {},
   "source": [
    "# Solana Data Management"
   ]
  },
  {
   "cell_type": "markdown",
   "id": "7a4f107d",
   "metadata": {},
   "source": [
    "## Importaciones"
   ]
  },
  {
   "cell_type": "code",
   "execution_count": null,
   "id": "b311c254",
   "metadata": {},
   "outputs": [],
   "source": [
    "from copy_trading.data_management.solana_manager import SolanaTxAnalyzer\n",
    "from copy_trading.data_management.solana_manager import SolanaWebsocketManager\n",
    "import asyncio\n",
    "from logging_system import setup_logging\n",
    "\n",
    "setup_logging(console_output=True, file_output=False, min_level_to_process='DEBUG')"
   ]
  },
  {
   "cell_type": "markdown",
   "id": "67dc8b31",
   "metadata": {},
   "source": [
    "### Account Info"
   ]
  },
  {
   "cell_type": "code",
   "execution_count": null,
   "id": "55350952",
   "metadata": {},
   "outputs": [],
   "source": [
    "async with SolanaTxAnalyzer() as solana_analizer:\n",
    "    result = await solana_analizer.analyze_transaction_by_signature(\n",
    "        signature=\"2XA5khyKPmYTwwH6vqAz6i1BjwxnQwEE5wzF83PoozwU1UkXD6vkearNrQrVrjb5ktYkky67trHZVgHY4zJop73f\"\n",
    "    )\n",
    "\n",
    "result"
   ]
  },
  {
   "cell_type": "markdown",
   "id": "ec60b6dd",
   "metadata": {},
   "source": [
    "### Http - Signature for statuses"
   ]
  },
  {
   "cell_type": "code",
   "execution_count": null,
   "id": "a14151d8",
   "metadata": {},
   "outputs": [],
   "source": [
    "async with SolanaTxAnalyzer() as solana_analizer:\n",
    "    result = await solana_analizer.get_signatures_with_statuses(signatures=[\n",
    "        \"2XA5khyKPmYTwwH6vqAz6i1BjwxnQwEE5wzF83PoozwU1UkXD6vkearNrQrVrjb5ktYkky67trHZVgHY4zJop73f\",\n",
    "        \"5RzBEYz9kTGz6Yp9xuou9kSAiV44NTsvNhf9jho2bQx66djsZyqeTn48RK3DsP1G3JmAQ49EZLJMhSuaSmMbhT13\",\n",
    "        \"3fVeh7JcK6mAe9Eq4Ybi7fXNxKNBoMnTAj1up6NuhKAKK3MCYWzfYJTaAZ5iC33Q3tmaMsgCPZwmfRs2bNzsXDHA\",\n",
    "        \"4mjyUGwqw9vX98Tc5GcBrFAotGfPi8vbNi8ZMm9DQPSeX8hCEBJctKoXWyndKq9NZ4quUz5HAvacEA4pv5SqtWuG\",\n",
    "        \"65BZKHiq69XD2sSmc9Sqs6Fvh1kMeAKJ6gbRWtJ3H8cVrmj1e6gHyqkeiJcAToVzwjKEykh9WB2ZgVkQk9DnXTSr\"\n",
    "    ])\n",
    "\n",
    "result"
   ]
  },
  {
   "cell_type": "markdown",
   "id": "66b5e2d2",
   "metadata": {},
   "source": [
    "### Websocket"
   ]
  },
  {
   "cell_type": "code",
   "execution_count": null,
   "id": "68aaab99",
   "metadata": {},
   "outputs": [],
   "source": [
    "async def on_notification(signature, msg):\n",
    "    print(f\"[{signature}] Notificación recibida:\", msg)\n",
    "\n",
    "async def on_timeout(signature, timeout):\n",
    "    print(f\"[{signature}] Timeout de {timeout} segundos.\")\n",
    "\n",
    "async def on_error(error: Exception):\n",
    "    try:\n",
    "        print(f\"{error}\")\n",
    "        print(type(error))\n",
    "    except Exception as err:\n",
    "        print(\"Se ejecuto un error:\", err)"
   ]
  },
  {
   "cell_type": "code",
   "execution_count": null,
   "id": "79d57fa2",
   "metadata": {},
   "outputs": [],
   "source": [
    "signature = \"3vy6K436cb5z1jgfQ9wrvXJMD3vLjts276oRZhkSUQL7Zb8RCvQn3ymWr8SkjQ9ejVyoXXhRK5dwVZSzSFGarEAM\""
   ]
  },
  {
   "cell_type": "code",
   "execution_count": null,
   "id": "fa3910d9",
   "metadata": {},
   "outputs": [],
   "source": [
    "async with SolanaWebsocketManager() as solana_websocket:\n",
    "    solana_websocket.set_callbacks(\n",
    "        on_signature_confirmed=on_notification,\n",
    "        on_signature_timeout=on_timeout,\n",
    "        on_connection_error=on_error\n",
    "    )\n",
    "\n",
    "    await solana_websocket.subscribe_signature(signature)\n",
    "\n",
    "    await asyncio.sleep(70)"
   ]
  }
 ],
 "metadata": {
  "kernelspec": {
   "display_name": "DEXES-iMODMhnj",
   "language": "python",
   "name": "python3"
  },
  "language_info": {
   "codemirror_mode": {
    "name": "ipython",
    "version": 3
   },
   "file_extension": ".py",
   "mimetype": "text/x-python",
   "name": "python",
   "nbconvert_exporter": "python",
   "pygments_lexer": "ipython3",
   "version": "3.13.5"
  }
 },
 "nbformat": 4,
 "nbformat_minor": 5
}
